{
 "cells": [
  {
   "cell_type": "markdown",
   "metadata": {},
   "source": [
    "NUMPY : Numpy is a library for python programming langauge which add supports of multidimensional arrays and matrices. It have large collection of mathematical function to operate on these arrays."
   ]
  },
  {
   "cell_type": "code",
   "execution_count": 2,
   "metadata": {},
   "outputs": [],
   "source": [
    "import numpy as np"
   ]
  },
  {
   "cell_type": "code",
   "execution_count": 3,
   "metadata": {},
   "outputs": [
    {
     "data": {
      "text/plain": [
       "'1.18.5'"
      ]
     },
     "execution_count": 3,
     "metadata": {},
     "output_type": "execute_result"
    }
   ],
   "source": [
    "#check numpy version\n",
    "numpy.__version__"
   ]
  },
  {
   "cell_type": "code",
   "execution_count": 5,
   "metadata": {},
   "outputs": [
    {
     "name": "stdout",
     "output_type": "stream",
     "text": [
      "add(x1, x2, /, out=None, *, where=True, casting='same_kind', order='K', dtype=None, subok=True[, signature, extobj])\n",
      "\n",
      "Add arguments element-wise.\n",
      "\n",
      "Parameters\n",
      "----------\n",
      "x1, x2 : array_like\n",
      "    The arrays to be added. If ``x1.shape != x2.shape``, they must be broadcastable to a common shape (which becomes the shape of the output).\n",
      "out : ndarray, None, or tuple of ndarray and None, optional\n",
      "    A location into which the result is stored. If provided, it must have\n",
      "    a shape that the inputs broadcast to. If not provided or None,\n",
      "    a freshly-allocated array is returned. A tuple (possible only as a\n",
      "    keyword argument) must have length equal to the number of outputs.\n",
      "where : array_like, optional\n",
      "    This condition is broadcast over the input. At locations where the\n",
      "    condition is True, the `out` array will be set to the ufunc result.\n",
      "    Elsewhere, the `out` array will retain its original value.\n",
      "    Note that if an uninitialized `out` array is created via the default\n",
      "    ``out=None``, locations within it where the condition is False will\n",
      "    remain uninitialized.\n",
      "**kwargs\n",
      "    For other keyword-only arguments, see the\n",
      "    :ref:`ufunc docs <ufuncs.kwargs>`.\n",
      "\n",
      "Returns\n",
      "-------\n",
      "add : ndarray or scalar\n",
      "    The sum of `x1` and `x2`, element-wise.\n",
      "    This is a scalar if both `x1` and `x2` are scalars.\n",
      "\n",
      "Notes\n",
      "-----\n",
      "Equivalent to `x1` + `x2` in terms of array broadcasting.\n",
      "\n",
      "Examples\n",
      "--------\n",
      ">>> np.add(1.0, 4.0)\n",
      "5.0\n",
      ">>> x1 = np.arange(9.0).reshape((3, 3))\n",
      ">>> x2 = np.arange(3.0)\n",
      ">>> np.add(x1, x2)\n",
      "array([[  0.,   2.,   4.],\n",
      "       [  3.,   5.,   7.],\n",
      "       [  6.,   8.,  10.]])\n"
     ]
    }
   ],
   "source": [
    "#how to get help on add function using numpy\n",
    "np.info(np.add)"
   ]
  },
  {
   "cell_type": "code",
   "execution_count": 8,
   "metadata": {},
   "outputs": [
    {
     "name": "stdout",
     "output_type": "stream",
     "text": [
      "True\n",
      "False\n"
     ]
    }
   ],
   "source": [
    "#program to check whether none of the element of given array is zero.\n",
    "#np.all() : all of the element is none zero\n",
    "#np.any() : any pf the element is non zero\n",
    "x  = np.array([1,2,3,4])\n",
    "y = np.array([1,2,3,4,0])\n",
    "print(np.all(x))\n",
    "print(np.all(y))"
   ]
  },
  {
   "cell_type": "code",
   "execution_count": 9,
   "metadata": {},
   "outputs": [
    {
     "name": "stdout",
     "output_type": "stream",
     "text": [
      "True\n",
      "False\n"
     ]
    }
   ],
   "source": [
    "x = np.array([1,0,0,0])\n",
    "y = np.array([0,0,0,0])\n",
    "print(np.any(x))\n",
    "print(np.any(y))"
   ]
  },
  {
   "cell_type": "code",
   "execution_count": 10,
   "metadata": {},
   "outputs": [
    {
     "name": "stdout",
     "output_type": "stream",
     "text": [
      "[ 1.  0. nan inf]\n",
      "[ True  True False False]\n"
     ]
    }
   ],
   "source": [
    "#NumPy program to test a given array element-wise for finiteness (not infinity or not a Number).\n",
    "\n",
    "import numpy as np\n",
    "a = np.array([1,0,np.nan, np.inf])\n",
    "print(a)\n",
    "print(np.isfinite(a))"
   ]
  },
  {
   "cell_type": "code",
   "execution_count": 12,
   "metadata": {},
   "outputs": [
    {
     "name": "stdout",
     "output_type": "stream",
     "text": [
      "[ 1.  0. nan inf]\n",
      "[False False False  True]\n"
     ]
    }
   ],
   "source": [
    "# NumPy program to test element-wise for positive or negative infinity.\n",
    "a = np.array([1, 0, np.nan , np.inf])\n",
    "print(a)\n",
    "print(np.isinf(a))"
   ]
  },
  {
   "cell_type": "code",
   "execution_count": 13,
   "metadata": {},
   "outputs": [
    {
     "name": "stdout",
     "output_type": "stream",
     "text": [
      "[ 1.  0. nan inf]\n",
      "[False False  True False]\n"
     ]
    }
   ],
   "source": [
    "#numpy program to test element wise for nan\n",
    "a = np.array([1, 0, np.nan , np.inf])\n",
    "print(a)\n",
    "print(np.isnan(a))"
   ]
  },
  {
   "cell_type": "code",
   "execution_count": 14,
   "metadata": {},
   "outputs": [
    {
     "name": "stdout",
     "output_type": "stream",
     "text": [
      "checking complex:  [ True  True False False False False]\n",
      "checking real:  [False False  True  True  True  True]\n",
      "checking scalar:  True\n",
      "checking scalar:  False\n"
     ]
    }
   ],
   "source": [
    "#NumPy program to test element-wise for complex number, real number of a given array.\n",
    "#Also test whether a given number is a scalar type or not.\n",
    "#Scalar is the single element of a number feild.\n",
    "\n",
    "a = np.array([1+2j , 2-3j , 1 ,2 , np.nan , np.inf])\n",
    "print(\"checking complex: \" , np.iscomplex(a))\n",
    "print(\"checking real: \", np.isreal(a))\n",
    "print(\"checking scalar: \", np.isscalar(3))\n",
    "print(\"checking scalar: \", np.isscalar([3]))"
   ]
  },
  {
   "cell_type": "markdown",
   "metadata": {},
   "source": [
    "# NumPy program to test whether two arrays are element-wise equal within a tolerance.\n",
    "numpy.allclose() function is used to find if two arrays are element-wise equal within a tolerance. \n",
    "The tolerance values are positive, typically very small numbers. \n",
    "The relative difference (rtol * abs(arr2)) and the absolute difference atol are \n",
    "added together to compare against the absolute difference between arr1 and arr2. \n",
    "If either array contains one or more NaNs, False is returned.\n",
    "Infs are treated as equal if they are in the same place and of the same sign in both arrays.\n",
    "\n",
    "If the following equation is element-wise True, then allclose returns True.\n",
    "absolute(arr1 - arr2) <= (atol + rtol * absolute(arr2))\n",
    "As, The above equation is not symmetric in arr1 and arr2, So, allclose(arr1, arr2) might be different from allclose(arr2, arr1) in some rare cases."
   ]
  },
  {
   "cell_type": "code",
   "execution_count": 15,
   "metadata": {},
   "outputs": [
    {
     "name": "stdout",
     "output_type": "stream",
     "text": [
      "1st Input array :  [5.000000e+05 1.000000e-07 4.000004e+06]\n",
      "2nd Input array :  [5.00001e+05 1.00000e-07 4.00000e+06]\n",
      "Are the two arrays are equal within the tolerance: \t True\n"
     ]
    }
   ],
   "source": [
    "import numpy as np\n",
    "  \n",
    "# input arrays\n",
    "in_arr1 = np.array([5e5, 1e-7, 4.000004e6])\n",
    "print (\"1st Input array : \", in_arr1) \n",
    "  \n",
    "in_arr2 = np.array([5.00001e5, 1e-7, 4e6])\n",
    "print (\"2nd Input array : \", in_arr2) \n",
    "  \n",
    "# setting the absolute and relative tolerance\n",
    "rtol = 1e-05\n",
    "atol = 1e-08\n",
    "  \n",
    "res = np.allclose(in_arr1, in_arr2, rtol, atol)\n",
    "print (\"Are the two arrays are equal within the tolerance: \\t\", res)"
   ]
  },
  {
   "cell_type": "code",
   "execution_count": 26,
   "metadata": {},
   "outputs": [
    {
     "name": "stdout",
     "output_type": "stream",
     "text": [
      "True\n",
      "False\n",
      "True\n"
     ]
    }
   ],
   "source": [
    "import numpy as np\n",
    "print(np.allclose([1,2,3] , [1,2,3]))\n",
    "print(np.allclose([1,np.nan , 3], [1, np.nan , 3]))\n",
    "print(np.allclose([1,np.nan , 3] , [1, np.nan , 3], equal_nan = True))"
   ]
  },
  {
   "cell_type": "code",
   "execution_count": 32,
   "metadata": {},
   "outputs": [
    {
     "name": "stdout",
     "output_type": "stream",
     "text": [
      "[False False  True]\n",
      "[False  True  True]\n",
      "[ True False False]\n",
      "[ True  True False]\n"
     ]
    }
   ],
   "source": [
    "#NumPy program to create an element-wise comparison (greater, greater_equal, less and less_equal) of two given arrays\n",
    "import numpy as np\n",
    "x  = np.array([1,2,3])\n",
    "y = np.array([2,2,1])\n",
    "print(np.greater(x , y))\n",
    "print(np.greater_equal(x , y))\n",
    "print(np.less(x,y))\n",
    "print(np.less_equal(x,y))"
   ]
  },
  {
   "cell_type": "code",
   "execution_count": 33,
   "metadata": {},
   "outputs": [
    {
     "name": "stdout",
     "output_type": "stream",
     "text": [
      "[ True  True  True  True  True  True  True  True  True False]\n",
      "True\n"
     ]
    }
   ],
   "source": [
    "#NumPy program to create an element-wise comparison (equal, equal within a tolerance) of two given array.\n",
    "x = np.array([72, 79, 85, 90, 150, -135, 120, -10, 60, 100])\n",
    "y = np.array([72, 79, 85, 90, 150, -135, 120, -10, 60, 100.000001])\n",
    "print(np.equal(x,y))\n",
    "print(np.allclose(x,y))"
   ]
  },
  {
   "cell_type": "code",
   "execution_count": 42,
   "metadata": {},
   "outputs": [
    {
     "name": "stdout",
     "output_type": "stream",
     "text": [
      "the size of the memory occupied by the said array is:  16\n"
     ]
    }
   ],
   "source": [
    "# NumPy program to create an array with the values 1, 7, 13, 105 and determine the size of the memory occupied by the array.\n",
    "x = np.array([1,7,13,105])\n",
    "print(\"the size of the memory occupied by the said array is: \" ,x.size * x.itemsize)"
   ]
  },
  {
   "cell_type": "code",
   "execution_count": 44,
   "metadata": {},
   "outputs": [
    {
     "name": "stdout",
     "output_type": "stream",
     "text": [
      "[0. 0. 0. 0. 0. 0. 0. 0. 0. 0.]\n",
      "[1. 1. 1. 1. 1. 1. 1. 1. 1. 1.]\n",
      "[5. 5. 5. 5. 5. 5. 5. 5. 5. 5.]\n"
     ]
    }
   ],
   "source": [
    "#NumPy program to create an array of 10 zeros, 10 ones, 10 fives.\n",
    "import numpy as np\n",
    "array1 = np.zeros(10)\n",
    "array2 = np.ones(10)\n",
    "array3 = np.ones(10)*5\n",
    "print(array1)\n",
    "print(array2)\n",
    "print(array3)"
   ]
  },
  {
   "cell_type": "code",
   "execution_count": 49,
   "metadata": {},
   "outputs": [
    {
     "name": "stdout",
     "output_type": "stream",
     "text": [
      "[30 31 32 33 34 35 36 37 38 39 40 41 42 43 44 45 46 47 48 49 50 51 52 53\n",
      " 54 55 56 57 58 59 60 61 62 63 64 65 66 67 68 69 70]\n"
     ]
    }
   ],
   "source": [
    "#NumPy program to create an array of the integers from 30 to70.\n",
    "import numpy as np\n",
    "array = np.arange(30,71)\n",
    "print(array)"
   ]
  },
  {
   "cell_type": "code",
   "execution_count": 50,
   "metadata": {},
   "outputs": [
    {
     "name": "stdout",
     "output_type": "stream",
     "text": [
      "[30 32 34 36 38 40 42 44 46 48 50 52 54 56 58 60 62 64 66 68 70]\n"
     ]
    }
   ],
   "source": [
    "#NumPy program to create an array of all the even integers from 30 to 70.\n",
    "import numpy as np\n",
    "array = np.arange(30, 71, 2)\n",
    "print(array)"
   ]
  },
  {
   "cell_type": "code",
   "execution_count": 56,
   "metadata": {},
   "outputs": [
    {
     "name": "stdout",
     "output_type": "stream",
     "text": [
      "[[1. 0. 0.]\n",
      " [0. 1. 0.]\n",
      " [0. 0. 1.]]\n"
     ]
    }
   ],
   "source": [
    "#NumPy program to create a 3x3 identity matrix.\n",
    "import numpy as np\n",
    "array = np.identity(3)\n",
    "print(array)"
   ]
  },
  {
   "cell_type": "code",
   "execution_count": 133,
   "metadata": {},
   "outputs": [
    {
     "data": {
      "text/plain": [
       "0.5327209552935761"
      ]
     },
     "execution_count": 133,
     "metadata": {},
     "output_type": "execute_result"
    }
   ],
   "source": [
    "#NumPy program to generate a random number between 0 and 1.\n",
    "import numpy as np\n",
    "from numpy import random\n",
    "array = random.rand()\n",
    "array"
   ]
  },
  {
   "cell_type": "code",
   "execution_count": 184,
   "metadata": {},
   "outputs": [
    {
     "data": {
      "text/plain": [
       "53"
      ]
     },
     "execution_count": 184,
     "metadata": {},
     "output_type": "execute_result"
    }
   ],
   "source": [
    "random.randint(100)"
   ]
  },
  {
   "cell_type": "code",
   "execution_count": 239,
   "metadata": {},
   "outputs": [
    {
     "data": {
      "text/plain": [
       "array([ 50.80757766,   9.93942084, -70.48002464,  56.25408772,\n",
       "        15.47138766,   9.65159533,  49.97933384,  20.50374107,\n",
       "        49.1976859 ,  32.96211672, -58.3219981 , 102.20451905,\n",
       "         4.74155176,  31.31225464, -24.82473437])"
      ]
     },
     "execution_count": 239,
     "metadata": {},
     "output_type": "execute_result"
    }
   ],
   "source": [
    "#NumPy program to generate an array of 15 random numbers from a standard normal distribution.\n",
    "np.random.normal(5,50,15)"
   ]
  },
  {
   "cell_type": "code",
   "execution_count": 198,
   "metadata": {},
   "outputs": [
    {
     "name": "stdout",
     "output_type": "stream",
     "text": [
      "[15 16 17 18 19 20 21 22 23 24 25 26 27 28 29 30 31 32 33 34 35 36 37 38\n",
      " 39 40 41 42 43 44 45 46 47 48 49 50 51 52 53 54 55]\n",
      "\n",
      "\n",
      "[16 17 18 19 20 21 22 23 24 25 26 27 28 29 30 31 32 33 34 35 36 37 38 39\n",
      " 40 41 42 43 44 45 46 47 48 49 50 51 52 53 54]\n"
     ]
    }
   ],
   "source": [
    "#NumPy program to create a vector with values ranging from 15 to 55 and print all values except the first and last.\n",
    "\n",
    "import numpy as np \n",
    "array = np.arange(15,56)\n",
    "print(array)\n",
    "print(\"\\n\")\n",
    "print(array[1:-1])"
   ]
  },
  {
   "cell_type": "code",
   "execution_count": 208,
   "metadata": {},
   "outputs": [
    {
     "name": "stdout",
     "output_type": "stream",
     "text": [
      "[[10 11 12 13]\n",
      " [14 15 16 17]\n",
      " [18 19 20 21]]\n",
      "10 11 12 13 14 15 16 17 18 19 20 21 "
     ]
    }
   ],
   "source": [
    "# NumPy program to create a 3X4 array using and iterate over it.\n",
    "\n",
    "import numpy as n\n",
    "a = np.arange(10,22).reshape((3, 4))\n",
    "print(a)\n",
    "for i in np.nditer(a):\n",
    "    print(i ,  end  =\" \")"
   ]
  },
  {
   "cell_type": "code",
   "execution_count": 212,
   "metadata": {},
   "outputs": [
    {
     "name": "stdout",
     "output_type": "stream",
     "text": [
      "[19 49 43 13 21 40 25 14  6 26]\n"
     ]
    }
   ],
   "source": [
    "#NumPy program to create a vector of length 10 with values evenly distributed between 5 and 50.\n",
    "\n",
    "import numpy as np\n",
    "from numpy import random\n",
    "array = random.randint(5 , 50 , size =(10))\n",
    "print(array)"
   ]
  },
  {
   "cell_type": "code",
   "execution_count": 223,
   "metadata": {},
   "outputs": [
    {
     "data": {
      "text/plain": [
       "array([ 5., 10., 15., 20., 25., 30., 35., 40., 45., 50.])"
      ]
     },
     "execution_count": 223,
     "metadata": {},
     "output_type": "execute_result"
    }
   ],
   "source": [
    "array = np.linspace(5,50,10)\n",
    "array"
   ]
  },
  {
   "cell_type": "code",
   "execution_count": 238,
   "metadata": {},
   "outputs": [
    {
     "name": "stdout",
     "output_type": "stream",
     "text": [
      "[ 0  1  2  3  4  5  6  7  8  9 10 11 12 13 14 15 16 17 18 19] \n",
      "\n",
      "[  0   1   2   3   4   5   6   7   8  -9 -10 -11 -12 -13 -14 -15  16  17\n",
      "  18  19]\n"
     ]
    }
   ],
   "source": [
    "#NumPy program to create a vector with values from 0 to 20 and change the sign of the numbers in the range from 9 to 15.\n",
    "array = np.arange(0,20)\n",
    "print(array , \"\\n\")\n",
    "array[(array >= 9) & (array <= 15)] *= -1\n",
    "print(array)\n"
   ]
  },
  {
   "cell_type": "code",
   "execution_count": 250,
   "metadata": {},
   "outputs": [
    {
     "name": "stdout",
     "output_type": "stream",
     "text": [
      "[ 3 10  1  7  4]\n"
     ]
    }
   ],
   "source": [
    "#NumPy program to create a vector of length 5 filled with arbitrary integers from 0 to 10.\n",
    "import numpy as np\n",
    "from numpy import random\n",
    "\n",
    "x = random.randint(0,11,5)\n",
    "print(x)"
   ]
  },
  {
   "cell_type": "code",
   "execution_count": 252,
   "metadata": {},
   "outputs": [
    {
     "name": "stdout",
     "output_type": "stream",
     "text": [
      "[1 2 3 4]\n",
      "[ 5  8 23 19]\n",
      "[ 5 16 69 76]\n"
     ]
    }
   ],
   "source": [
    "#NumPy program to multiply the values of two given vectors.\n",
    "\n",
    "import numpy as np\n",
    "x = np.array([1,2,3,4])\n",
    "y = np.random.randint(5,25,4)\n",
    "print(x)\n",
    "print(y)\n",
    "print(x * y)"
   ]
  },
  {
   "cell_type": "code",
   "execution_count": 253,
   "metadata": {},
   "outputs": [
    {
     "name": "stdout",
     "output_type": "stream",
     "text": [
      "[[ 5  6  7]\n",
      " [ 8  9 10]\n",
      " [11 12 13]]\n",
      "\n",
      "\n",
      "[[0]\n",
      " [1]\n",
      " [2]]\n",
      "\n",
      "\n",
      "[[ 0  0  0]\n",
      " [ 8  9 10]\n",
      " [22 24 26]]\n"
     ]
    }
   ],
   "source": [
    "#NumPy program to multiply the values of two given vectors.\n",
    "\n",
    "x = np.arange(5,14).reshape(3,3)\n",
    "y = np.arange(0,3).reshape(3,1)\n",
    "print(x)\n",
    "print(\"\\n\")\n",
    "print(y)\n",
    "print(\"\\n\")\n",
    "print(x * y)"
   ]
  },
  {
   "cell_type": "code",
   "execution_count": 267,
   "metadata": {},
   "outputs": [
    {
     "name": "stdout",
     "output_type": "stream",
     "text": [
      "[[17 21 17 18]\n",
      " [20 10 12 17]\n",
      " [13 21 19 16]]\n"
     ]
    }
   ],
   "source": [
    "#NumPy program to create a 3x4 matrix filled with values from 10 to 21\n",
    "import numpy as np\n",
    "x = np.random.randint(10,22,size = (12)).reshape(3,4)\n",
    "print(x)"
   ]
  },
  {
   "cell_type": "code",
   "execution_count": 268,
   "metadata": {},
   "outputs": [
    {
     "name": "stdout",
     "output_type": "stream",
     "text": [
      "[[10 11 12 13]\n",
      " [14 15 16 17]\n",
      " [18 19 20 21]]\n"
     ]
    }
   ],
   "source": [
    "x = np.arange(10,22).reshape(3,4)\n",
    "print(x)"
   ]
  },
  {
   "cell_type": "code",
   "execution_count": 272,
   "metadata": {},
   "outputs": [
    {
     "data": {
      "text/plain": [
       "(3, 4)"
      ]
     },
     "execution_count": 272,
     "metadata": {},
     "output_type": "execute_result"
    }
   ],
   "source": [
    "#NumPy program to find the number of rows and columns of a given matrix.\n",
    "np.shape(x)"
   ]
  },
  {
   "cell_type": "code",
   "execution_count": 275,
   "metadata": {},
   "outputs": [
    {
     "name": "stdout",
     "output_type": "stream",
     "text": [
      "[[1. 0. 0.]\n",
      " [0. 1. 0.]\n",
      " [0. 0. 1.]]\n"
     ]
    }
   ],
   "source": [
    "#NumPy program to create a 3x3 identity matrix, i.e. diagonal elements are 1, the rest are 0. \n",
    "x = np.identity(3)\n",
    "print(x)"
   ]
  },
  {
   "cell_type": "code",
   "execution_count": 276,
   "metadata": {},
   "outputs": [
    {
     "name": "stdout",
     "output_type": "stream",
     "text": [
      "[[1. 0. 0.]\n",
      " [0. 1. 0.]\n",
      " [0. 0. 1.]]\n"
     ]
    }
   ],
   "source": [
    "x = np.eye(3)\n",
    "print(x)"
   ]
  },
  {
   "cell_type": "code",
   "execution_count": 286,
   "metadata": {},
   "outputs": [
    {
     "name": "stdout",
     "output_type": "stream",
     "text": [
      "[[1. 1. 1. 1. 1. 1. 1. 1. 1. 1.]\n",
      " [1. 1. 1. 1. 1. 1. 1. 1. 1. 1.]\n",
      " [1. 1. 1. 1. 1. 1. 1. 1. 1. 1.]\n",
      " [1. 1. 1. 1. 1. 1. 1. 1. 1. 1.]\n",
      " [1. 1. 1. 1. 1. 1. 1. 1. 1. 1.]\n",
      " [1. 1. 1. 1. 1. 1. 1. 1. 1. 1.]\n",
      " [1. 1. 1. 1. 1. 1. 1. 1. 1. 1.]\n",
      " [1. 1. 1. 1. 1. 1. 1. 1. 1. 1.]\n",
      " [1. 1. 1. 1. 1. 1. 1. 1. 1. 1.]\n",
      " [1. 1. 1. 1. 1. 1. 1. 1. 1. 1.]]\n",
      "\n",
      "\n",
      "\n",
      "[[1. 1. 1. 1. 1. 1. 1. 1. 1. 1.]\n",
      " [1. 0. 0. 0. 0. 0. 0. 0. 0. 1.]\n",
      " [1. 0. 0. 0. 0. 0. 0. 0. 0. 1.]\n",
      " [1. 0. 0. 0. 0. 0. 0. 0. 0. 1.]\n",
      " [1. 0. 0. 0. 0. 0. 0. 0. 0. 1.]\n",
      " [1. 0. 0. 0. 0. 0. 0. 0. 0. 1.]\n",
      " [1. 0. 0. 0. 0. 0. 0. 0. 0. 1.]\n",
      " [1. 0. 0. 0. 0. 0. 0. 0. 0. 1.]\n",
      " [1. 0. 0. 0. 0. 0. 0. 0. 0. 1.]\n",
      " [1. 1. 1. 1. 1. 1. 1. 1. 1. 1.]]\n"
     ]
    }
   ],
   "source": [
    "#NumPy program to create a 10x10 matrix, in which the elements on the borders will be equal to 1, and inside 0. \n",
    "x = np.ones((10,10))\n",
    "print(x)\n",
    "print(\"\\n\\n\")\n",
    "x[1:-1 , 1:-1] = 0\n",
    "print(x)"
   ]
  },
  {
   "cell_type": "code",
   "execution_count": 292,
   "metadata": {},
   "outputs": [
    {
     "name": "stdout",
     "output_type": "stream",
     "text": [
      "[[0. 0. 0. 0. 0.]\n",
      " [0. 0. 0. 0. 0.]\n",
      " [0. 0. 0. 0. 0.]\n",
      " [0. 0. 0. 0. 0.]\n",
      " [0. 0. 0. 0. 0.]]\n",
      "\n",
      "\n",
      "\n",
      "[[1 0 0 0 0]\n",
      " [0 2 0 0 0]\n",
      " [0 0 3 0 0]\n",
      " [0 0 0 4 0]\n",
      " [0 0 0 0 5]]\n"
     ]
    }
   ],
   "source": [
    "#NumPy program to create a 5x5 zero matrix with elements on the main diagonal equal to 1, 2, 3, 4, 5\n",
    "import numpy as np\n",
    "x = np.zeros((5,5))\n",
    "print(x)\n",
    "print(\"\\n\\n\")\n",
    "x = np.diag([1,2,3,4,5])\n",
    "print(x)"
   ]
  },
  {
   "cell_type": "code",
   "execution_count": 296,
   "metadata": {},
   "outputs": [
    {
     "name": "stdout",
     "output_type": "stream",
     "text": [
      "[[0. 0. 0. 0.]\n",
      " [0. 0. 0. 0.]\n",
      " [0. 0. 0. 0.]\n",
      " [0. 0. 0. 0.]] \n",
      "\n",
      "\n",
      "[[0. 1. 0. 1.]\n",
      " [1. 0. 1. 0.]\n",
      " [0. 1. 0. 1.]\n",
      " [1. 0. 1. 0.]]\n"
     ]
    }
   ],
   "source": [
    "#NumPy program to create a 4x4 matrix in which 0 and 1 are staggered, with zeros on the main diagonal.\n",
    "import numpy as np\n",
    "x = np.zeros((4,4))\n",
    "print(x , \"\\n\\n\")\n",
    "x[::2 , 1::2] = 1\n",
    "x[1::2 , ::2] = 1\n",
    "print(x)"
   ]
  },
  {
   "cell_type": "code",
   "execution_count": null,
   "metadata": {},
   "outputs": [],
   "source": []
  }
 ],
 "metadata": {
  "kernelspec": {
   "display_name": "Python 3",
   "language": "python",
   "name": "python3"
  },
  "language_info": {
   "codemirror_mode": {
    "name": "ipython",
    "version": 3
   },
   "file_extension": ".py",
   "mimetype": "text/x-python",
   "name": "python",
   "nbconvert_exporter": "python",
   "pygments_lexer": "ipython3",
   "version": "3.8.3"
  }
 },
 "nbformat": 4,
 "nbformat_minor": 4
}
