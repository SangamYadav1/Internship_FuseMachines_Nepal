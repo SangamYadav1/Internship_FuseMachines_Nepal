{
 "cells": [
  {
   "cell_type": "markdown",
   "metadata": {},
   "source": [
    "Pandas : Pandas is a library for python programming language for data manipulation and data analysis. It offers data structure and operations for manipulating numerical table and time series ."
   ]
  },
  {
   "cell_type": "code",
   "execution_count": 1,
   "metadata": {},
   "outputs": [
    {
     "data": {
      "text/plain": [
       "0    1\n",
       "1    2\n",
       "2    3\n",
       "3    4\n",
       "4    5\n",
       "dtype: int64"
      ]
     },
     "execution_count": 1,
     "metadata": {},
     "output_type": "execute_result"
    }
   ],
   "source": [
    "#Pandas program to create and display a one-dimensional array-like object containing an array of data.\n",
    "import pandas as pd\n",
    "onedarr = pd.Series([1,2,3,4,5])\n",
    "onedarr"
   ]
  },
  {
   "cell_type": "code",
   "execution_count": 2,
   "metadata": {},
   "outputs": [
    {
     "name": "stdout",
     "output_type": "stream",
     "text": [
      "0    1\n",
      "1    2\n",
      "2    3\n",
      "3    4\n",
      "4    5\n",
      "dtype: int64\n",
      "<class 'pandas.core.series.Series'>\n",
      "[1, 2, 3, 4, 5]\n",
      "<class 'list'>\n"
     ]
    }
   ],
   "source": [
    "#Pandas program to convert a Panda module Series to Python list and it’s type.\n",
    "import pandas as pd\n",
    "a = pd.Series([1,2,3,4,5])\n",
    "print(a)\n",
    "print(type(a))\n",
    "print(a.tolist())\n",
    "print(type(a.tolist()))"
   ]
  },
  {
   "cell_type": "code",
   "execution_count": 4,
   "metadata": {},
   "outputs": [
    {
     "name": "stdout",
     "output_type": "stream",
     "text": [
      "0    1\n",
      "1    2\n",
      "2    3\n",
      "3    4\n",
      "dtype: int64\n",
      "0    2\n",
      "1    3\n",
      "2    4\n",
      "3    5\n",
      "dtype: int64\n",
      "add:  0    3\n",
      "1    5\n",
      "2    7\n",
      "3    9\n",
      "dtype: int64\n",
      "substract:  0   -1\n",
      "1   -1\n",
      "2   -1\n",
      "3   -1\n",
      "dtype: int64\n",
      "multiply:  0     2\n",
      "1     6\n",
      "2    12\n",
      "3    20\n",
      "dtype: int64\n",
      "divide:  0    0.500000\n",
      "1    0.666667\n",
      "2    0.750000\n",
      "3    0.800000\n",
      "dtype: float64\n"
     ]
    }
   ],
   "source": [
    "#Pandas program to add, subtract, multiple and divide two Pandas Series.\n",
    "import pandas as pd\n",
    "series1 = pd.Series([1,2,3,4])\n",
    "series2 = pd.Series([2,3,4,5])\n",
    "print(series1)\n",
    "print(series2)\n",
    "print(\"add: \" , series1+series2)\n",
    "print(\"substract: \", series1 - series2)\n",
    "print(\"multiply: \", series1 * series2)\n",
    "print(\"divide: \", series1 / series2)"
   ]
  },
  {
   "cell_type": "code",
   "execution_count": 5,
   "metadata": {},
   "outputs": [
    {
     "name": "stdout",
     "output_type": "stream",
     "text": [
      "comparing the elemnt of two pandas series: \n",
      "0    False\n",
      "1    False\n",
      "2     True\n",
      "3    False\n",
      "dtype: bool\n",
      "0    False\n",
      "1    False\n",
      "2    False\n",
      "3     True\n",
      "dtype: bool\n",
      "0     True\n",
      "1     True\n",
      "2    False\n",
      "3    False\n",
      "dtype: bool\n",
      "0    False\n",
      "1    False\n",
      "2     True\n",
      "3     True\n",
      "dtype: bool\n",
      "0     True\n",
      "1     True\n",
      "2     True\n",
      "3    False\n",
      "dtype: bool\n"
     ]
    }
   ],
   "source": [
    "#Pandas Program to compare the element of two pandas series\n",
    "import pandas as pd\n",
    "series1 = pd.Series([1,2,3,4])\n",
    "series2 = pd.Series([5,4,3,2])\n",
    "print(\"comparing the elemnt of two pandas series: \")\n",
    "print(series1 == series2)\n",
    "print(series1 > series2)\n",
    "print(series1 < series2)\n",
    "print(series1 >= series2)\n",
    "print(series1 <= series2)"
   ]
  },
  {
   "cell_type": "code",
   "execution_count": 8,
   "metadata": {},
   "outputs": [
    {
     "name": "stdout",
     "output_type": "stream",
     "text": [
      "{'a': 1, 'b': 2, 'c': 3, 'd': 4}\n",
      "a    1\n",
      "b    2\n",
      "c    3\n",
      "d    4\n",
      "dtype: int64\n"
     ]
    }
   ],
   "source": [
    "#Pandas program to convert a dictionary to a Pandas series.\n",
    "import pandas as pd\n",
    "dict_ = {'a': 1 , 'b': 2 , 'c': 3, 'd': 4}\n",
    "print(dict_)\n",
    "dicttoPs = pd.Series(dict_)\n",
    "print(dicttoPs)"
   ]
  },
  {
   "cell_type": "code",
   "execution_count": 9,
   "metadata": {},
   "outputs": [
    {
     "name": "stdout",
     "output_type": "stream",
     "text": [
      "[1 2 3 4]\n",
      "0    1\n",
      "1    2\n",
      "2    3\n",
      "3    4\n",
      "dtype: int32\n"
     ]
    }
   ],
   "source": [
    "#Pandas program to convert a NumPy array to a Pandas series.\n",
    "import numpy as np\n",
    "import pandas as pd\n",
    "\n",
    "array = np.array([1,2,3,4])\n",
    "print(array)\n",
    "array_series = pd.Series(array)\n",
    "print(array_series)"
   ]
  },
  {
   "cell_type": "code",
   "execution_count": 16,
   "metadata": {},
   "outputs": [
    {
     "name": "stdout",
     "output_type": "stream",
     "text": [
      "0         1\n",
      "1         2\n",
      "2    pandas\n",
      "3       3.0\n",
      "dtype: object\n",
      "\n",
      "\n",
      "\n",
      "0    1.0\n",
      "1    2.0\n",
      "2    NaN\n",
      "3    3.0\n",
      "dtype: float64\n"
     ]
    }
   ],
   "source": [
    "# Pandas program to change the data type of given a column or a Series.\n",
    "import pandas as pd\n",
    "series = pd.Series(['1','2','pandas','3.0'])\n",
    "print(series)\n",
    "print('\\n\\n')\n",
    "print(pd.to_numeric(series, errors = 'coerce'))"
   ]
  },
  {
   "cell_type": "code",
   "execution_count": 24,
   "metadata": {},
   "outputs": [
    {
     "name": "stdout",
     "output_type": "stream",
     "text": [
      "orignal data frame\n",
      "   column1  column2  column3\n",
      "0        1        3        7\n",
      "1        2        4        8\n",
      "2        3        5        9\n",
      "3        4        6       10\n",
      "\n",
      "\n",
      "first column of data frame to series\n",
      "0    1\n",
      "1    2\n",
      "2    3\n",
      "3    4\n",
      "Name: column1, dtype: int64\n"
     ]
    }
   ],
   "source": [
    "#Pandas program to convert the first column of a DataFrame as a Series.\n",
    "import pandas as pd\n",
    "d = {'column1': [1,2,3,4], \"column2\": [3,4,5,6], \"column3\": [7,8,9,10]}\n",
    "df = pd.DataFrame(data = d)\n",
    "print(\"orignal data frame\")\n",
    "print(df)\n",
    "print('\\n')\n",
    "s1 = df.iloc[: , 0]\n",
    "print('first column of data frame to series')\n",
    "print(s1)"
   ]
  },
  {
   "cell_type": "code",
   "execution_count": 32,
   "metadata": {},
   "outputs": [
    {
     "name": "stdout",
     "output_type": "stream",
     "text": [
      "0         1\n",
      "1         2\n",
      "2         3\n",
      "3         4\n",
      "4    python\n",
      "dtype: object\n",
      "['1' '2' '3' '4' 'python']\n"
     ]
    }
   ],
   "source": [
    "#Pandas program to convert a given Series to an array.\n",
    "import pandas as pd\n",
    "import numpy as np\n",
    "\n",
    "series = pd.Series([1,2,3,4,'python'])\n",
    "print(series)\n",
    "array = np.array(series.values.tolist())\n",
    "print(array)"
   ]
  },
  {
   "cell_type": "code",
   "execution_count": 38,
   "metadata": {},
   "outputs": [
    {
     "name": "stdout",
     "output_type": "stream",
     "text": [
      "0    [red, orange, blue]\n",
      "1           [red, black]\n",
      "2               [yellow]\n",
      "dtype: object\n",
      "\n",
      "\n",
      "converting series of list to one series\n",
      "0       red\n",
      "1    orange\n",
      "2      blue\n",
      "3       red\n",
      "4     black\n",
      "5    yellow\n",
      "dtype: object\n"
     ]
    }
   ],
   "source": [
    "#Pandas program to convert Series of lists to one Series.\n",
    "import pandas as pd\n",
    "list_series = pd.Series([['red','orange','blue'],['red','black'],['yellow']])\n",
    "print(list_series)\n",
    "print('\\n')\n",
    "print('converting series of list to one series')\n",
    "one_series = list_series.apply(pd.Series).stack().reset_index(drop = True)\n",
    "print(one_series)"
   ]
  },
  {
   "cell_type": "code",
   "execution_count": 47,
   "metadata": {},
   "outputs": [
    {
     "name": "stdout",
     "output_type": "stream",
     "text": [
      "0         1\n",
      "1         2\n",
      "2         3\n",
      "3         4\n",
      "4         5\n",
      "5    sangam\n",
      "6         6\n",
      "7         7\n",
      "dtype: object\n",
      "\n",
      "\n",
      "0         1\n",
      "1         2\n",
      "2         3\n",
      "3         4\n",
      "4         5\n",
      "6         6\n",
      "7         7\n",
      "5    sangam\n",
      "dtype: object\n"
     ]
    }
   ],
   "source": [
    "#Pandas program to sort a given Series\n",
    "import pandas as pd\n",
    "s = pd.Series(['1','2','3','4','5','sangam','6','7'])\n",
    "print(s)\n",
    "print('\\n')\n",
    "new_s = pd.Series(s).sort_values()\n",
    "print(new_s)"
   ]
  },
  {
   "cell_type": "code",
   "execution_count": 51,
   "metadata": {},
   "outputs": [
    {
     "name": "stdout",
     "output_type": "stream",
     "text": [
      "0    1\n",
      "1    2\n",
      "2    3\n",
      "dtype: int64\n",
      "\n",
      "\n",
      "adding data to existing series\n",
      "0      1\n",
      "1      2\n",
      "2      3\n",
      "0    san\n",
      "1      3\n",
      "dtype: object\n"
     ]
    }
   ],
   "source": [
    "#python program to add some data to existing series\n",
    "import pandas as pd\n",
    "s = pd.Series([1,2,3])\n",
    "print(s)\n",
    "print(\"\\n\")\n",
    "print(\"adding data to existing series\")\n",
    "new_s = s.append(pd.Series(['san',3]))\n",
    "print(new_s)"
   ]
  },
  {
   "cell_type": "code",
   "execution_count": 54,
   "metadata": {},
   "outputs": [
    {
     "name": "stdout",
     "output_type": "stream",
     "text": [
      "0    1\n",
      "1    2\n",
      "2    3\n",
      "3    4\n",
      "4    5\n",
      "5    6\n",
      "6    7\n",
      "7    8\n",
      "8    9\n",
      "dtype: int64\n",
      "\n",
      "\n",
      "0    1\n",
      "1    2\n",
      "2    3\n",
      "3    4\n",
      "4    5\n",
      "5    6\n",
      "dtype: int64\n"
     ]
    }
   ],
   "source": [
    "#Pandas program to create a subset of a given series based on value and condition.\n",
    "import pandas as pd\n",
    "s = pd.Series([1,2,3,4,5,6,7,8,9])\n",
    "print(s)\n",
    "print('\\n')\n",
    "new_s = s[:-3]\n",
    "print(new_s)"
   ]
  },
  {
   "cell_type": "code",
   "execution_count": 59,
   "metadata": {},
   "outputs": [
    {
     "name": "stdout",
     "output_type": "stream",
     "text": [
      "A    1\n",
      "B    2\n",
      "C    3\n",
      "D    4\n",
      "E    5\n",
      "dtype: int64\n",
      "\n",
      "\n",
      "D    4\n",
      "A    1\n",
      "B    2\n",
      "E    5\n",
      "C    3\n",
      "dtype: int64\n"
     ]
    }
   ],
   "source": [
    "#Pandas program to change the order of index of a given series.\n",
    "import pandas as pd\n",
    "s = pd.Series(data = [1,2,3,4,5] , index = ['A','B','C','D','E'])\n",
    "print(s)\n",
    "print('\\n')\n",
    "new_s = s.reindex(index = ['D','A','B','E','C'])\n",
    "print(new_s)"
   ]
  },
  {
   "cell_type": "code",
   "execution_count": 61,
   "metadata": {},
   "outputs": [
    {
     "name": "stdout",
     "output_type": "stream",
     "text": [
      "0    1\n",
      "1    2\n",
      "2    3\n",
      "3    4\n",
      "4    5\n",
      "dtype: int64\n",
      "mean:  3.0\n",
      "standard deviation:  1.5811388300841898\n"
     ]
    }
   ],
   "source": [
    "#Pandas program to create the mean and standard deviation of the data of a given Series.\n",
    "import pandas as pd\n",
    "s = pd.Series([1,2,3,4,5])\n",
    "print(s)\n",
    "print(\"mean: \", s.mean())\n",
    "print(\"standard deviation: \" , s.std())\n"
   ]
  },
  {
   "cell_type": "code",
   "execution_count": 67,
   "metadata": {},
   "outputs": [
    {
     "name": "stdout",
     "output_type": "stream",
     "text": [
      "0    1\n",
      "1    2\n",
      "2    3\n",
      "3    4\n",
      "dtype: int64\n",
      "0    3\n",
      "1    4\n",
      "2    5\n",
      "3    6\n",
      "dtype: int64\n",
      "0    1\n",
      "1    2\n",
      "dtype: int64\n"
     ]
    }
   ],
   "source": [
    "#Pandas program to get the items of a given series not present in another given series.\n",
    "import pandas as pd\n",
    "s1 = pd.Series([1,2,3,4])\n",
    "s2 = pd.Series([3,4,5,6])\n",
    "print(s1)\n",
    "print(s2)\n",
    "print(s1[~s1.isin(s2)])"
   ]
  },
  {
   "cell_type": "code",
   "execution_count": 84,
   "metadata": {},
   "outputs": [
    {
     "name": "stdout",
     "output_type": "stream",
     "text": [
      "0      1\n",
      "1      2\n",
      "2      3\n",
      "3      4\n",
      "4      5\n",
      "5      6\n",
      "6      7\n",
      "7      8\n",
      "8      9\n",
      "9     10\n",
      "10    12\n",
      "11    14\n",
      "12    16\n",
      "13    18\n",
      "dtype: int64 \n",
      "\n",
      "0     2\n",
      "1     4\n",
      "2     6\n",
      "3     8\n",
      "4    10\n",
      "dtype: int64 \n",
      "\n",
      "printing the itmes which are not common of two given series \n",
      "\n",
      "0      1\n",
      "2      3\n",
      "4      5\n",
      "6      7\n",
      "8      9\n",
      "10    12\n",
      "11    14\n",
      "12    16\n",
      "13    18\n",
      "dtype: int64\n"
     ]
    }
   ],
   "source": [
    "#Write a Pandas program to get the items which are not common of two given series.\n",
    "import pandas as pd\n",
    "import numpy as np\n",
    "s1 = pd.Series([1,2,3,4,5,6,7,8,9,10])\n",
    "s2 = pd.Series([2,4,6,8,10,12,14,16,18])\n",
    "sr1 = pd.Series(np.union1d(s1,s2))\n",
    "print(sr1 , '\\n')\n",
    "sr2 = pd.Series(np.intersect1d(s1,s2))\n",
    "print(sr2, '\\n')\n",
    "print(\"printing the itmes which are not common of two given series \\n\")\n",
    "result = sr1[~sr1.isin(sr2)]\n",
    "print(result)\n"
   ]
  },
  {
   "cell_type": "code",
   "execution_count": 97,
   "metadata": {},
   "outputs": [
    {
     "name": "stdout",
     "output_type": "stream",
     "text": [
      "orignal series\n",
      "0   -0.249296\n",
      "1    6.028041\n",
      "2    8.459107\n",
      "3    4.242692\n",
      "4    7.943962\n",
      "5    6.542657\n",
      "6    5.663539\n",
      "7    1.789870\n",
      "8    4.431513\n",
      "9    5.765004\n",
      "dtype: float64\n",
      "[-0.24929642  4.28989704  5.71427167  6.4140027   8.45910741]\n"
     ]
    }
   ],
   "source": [
    "#Pandas program to compute the minimum, 25th percentile, median, 75th, and maximum of a given series\n",
    "import pandas as pd\n",
    "import numpy as np\n",
    "num_state = np.random.RandomState(100)\n",
    "num_series = pd.Series(num_state.normal(5,3,10))\n",
    "print(\"orignal series\")\n",
    "print(num_series)\n",
    "result = np.percentile(num_series , q= [0,25,50,75,100])\n",
    "print(result)"
   ]
  },
  {
   "cell_type": "code",
   "execution_count": 96,
   "metadata": {},
   "outputs": [
    {
     "name": "stdout",
     "output_type": "stream",
     "text": [
      "Original Series:\n",
      "0    3.749726\n",
      "1    4.831200\n",
      "2   -1.408588\n",
      "3    9.920812\n",
      "4   -0.380307\n",
      "5    2.474758\n",
      "6    6.508644\n",
      "7    1.264136\n",
      "8    1.826143\n",
      "9    2.272977\n",
      "dtype: float64\n",
      "\n",
      "Minimum, 25th percentile, median, 75th, and maximum of a given series:\n",
      "[-1.40858829  1.40463764  2.37386753  4.56083125  9.92081243]\n"
     ]
    }
   ],
   "source": [
    "import pandas as pd\n",
    "import numpy as np\n",
    "num_state = np.random.RandomState(2)\n",
    "num_series = pd.Series(num_state.normal(5, 3, 10))\n",
    "print(\"Original Series:\")\n",
    "print(num_series)\n",
    "result = np.percentile(num_series, q=[0, 25, 50, 75, 100])\n",
    "print(\"\\nMinimum, 25th percentile, median, 75th, and maximum of a given series:\")\n",
    "print(result)"
   ]
  }
 ],
 "metadata": {
  "kernelspec": {
   "display_name": "Python 3",
   "language": "python",
   "name": "python3"
  },
  "language_info": {
   "codemirror_mode": {
    "name": "ipython",
    "version": 3
   },
   "file_extension": ".py",
   "mimetype": "text/x-python",
   "name": "python",
   "nbconvert_exporter": "python",
   "pygments_lexer": "ipython3",
   "version": "3.8.3"
  }
 },
 "nbformat": 4,
 "nbformat_minor": 4
}
