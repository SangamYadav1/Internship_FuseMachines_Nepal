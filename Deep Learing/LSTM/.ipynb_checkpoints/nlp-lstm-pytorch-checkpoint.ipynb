{
 "cells": [
  {
   "cell_type": "code",
   "execution_count": 1,
   "metadata": {
    "_cell_guid": "b1076dfc-b9ad-4769-8c92-a6c4dae69d19",
    "_uuid": "8f2839f25d086af736a60e9eeb907d3b93b6e0e5",
    "execution": {
     "iopub.execute_input": "2021-08-03T10:18:38.611573Z",
     "iopub.status.busy": "2021-08-03T10:18:38.610508Z",
     "iopub.status.idle": "2021-08-03T10:18:38.636846Z",
     "shell.execute_reply": "2021-08-03T10:18:38.637333Z",
     "shell.execute_reply.started": "2021-08-03T08:34:14.906155Z"
    },
    "papermill": {
     "duration": 0.055561,
     "end_time": "2021-08-03T10:18:38.637634",
     "exception": false,
     "start_time": "2021-08-03T10:18:38.582073",
     "status": "completed"
    },
    "tags": []
   },
   "outputs": [
    {
     "name": "stdout",
     "output_type": "stream",
     "text": [
      "/kaggle/input/nlpdataset/1-P-3-ISEAR.csv\n",
      "/kaggle/input/glove6b100dtxt/glove.6B.100d.txt\n"
     ]
    }
   ],
   "source": [
    "# This Python 3 environment comes with many helpful analytics libraries installed\n",
    "# It is defined by the kaggle/python Docker image: https://github.com/kaggle/docker-python\n",
    "# For example, here's several helpful packages to load\n",
    "\n",
    "import numpy as np # linear algebra\n",
    "import pandas as pd # data processing, CSV file I/O (e.g. pd.read_csv)\n",
    "\n",
    "# Input data files are available in the read-only \"../input/\" directory\n",
    "# For example, running this (by clicking run or pressing Shift+Enter) will list all files under the input directory\n",
    "\n",
    "import os\n",
    "for dirname, _, filenames in os.walk('/kaggle/input'):\n",
    "    for filename in filenames:\n",
    "        print(os.path.join(dirname, filename))\n",
    "\n",
    "# You can write up to 20GB to the current directory (/kaggle/working/) that gets preserved as output when you create a version using \"Save & Run All\" \n",
    "# You can also write temporary files to /kaggle/temp/, but they won't be saved outside of the current session"
   ]
  },
  {
   "cell_type": "code",
   "execution_count": 2,
   "metadata": {
    "execution": {
     "iopub.execute_input": "2021-08-03T10:18:38.692176Z",
     "iopub.status.busy": "2021-08-03T10:18:38.691569Z",
     "iopub.status.idle": "2021-08-03T10:18:39.956737Z",
     "shell.execute_reply": "2021-08-03T10:18:39.956207Z",
     "shell.execute_reply.started": "2021-08-03T08:34:14.91856Z"
    },
    "papermill": {
     "duration": 1.29279,
     "end_time": "2021-08-03T10:18:39.956882",
     "exception": false,
     "start_time": "2021-08-03T10:18:38.664092",
     "status": "completed"
    },
    "tags": []
   },
   "outputs": [],
   "source": [
    "import torch\n",
    "import torch.nn as nn"
   ]
  },
  {
   "cell_type": "code",
   "execution_count": 3,
   "metadata": {
    "execution": {
     "iopub.execute_input": "2021-08-03T10:18:40.012860Z",
     "iopub.status.busy": "2021-08-03T10:18:40.012209Z",
     "iopub.status.idle": "2021-08-03T10:18:40.085914Z",
     "shell.execute_reply": "2021-08-03T10:18:40.085429Z",
     "shell.execute_reply.started": "2021-08-03T08:34:14.93567Z"
    },
    "papermill": {
     "duration": 0.102267,
     "end_time": "2021-08-03T10:18:40.086062",
     "exception": false,
     "start_time": "2021-08-03T10:18:39.983795",
     "status": "completed"
    },
    "tags": []
   },
   "outputs": [
    {
     "data": {
      "text/html": [
       "<div>\n",
       "<style scoped>\n",
       "    .dataframe tbody tr th:only-of-type {\n",
       "        vertical-align: middle;\n",
       "    }\n",
       "\n",
       "    .dataframe tbody tr th {\n",
       "        vertical-align: top;\n",
       "    }\n",
       "\n",
       "    .dataframe thead th {\n",
       "        text-align: right;\n",
       "    }\n",
       "</style>\n",
       "<table border=\"1\" class=\"dataframe\">\n",
       "  <thead>\n",
       "    <tr style=\"text-align: right;\">\n",
       "      <th></th>\n",
       "      <th>0</th>\n",
       "      <th>1</th>\n",
       "      <th>2</th>\n",
       "    </tr>\n",
       "  </thead>\n",
       "  <tbody>\n",
       "    <tr>\n",
       "      <th>0</th>\n",
       "      <td>0</td>\n",
       "      <td>joy</td>\n",
       "      <td>On days when I feel close to my partner and ot...</td>\n",
       "    </tr>\n",
       "    <tr>\n",
       "      <th>1</th>\n",
       "      <td>1</td>\n",
       "      <td>fear</td>\n",
       "      <td>Every time I imagine that someone I love or I ...</td>\n",
       "    </tr>\n",
       "    <tr>\n",
       "      <th>2</th>\n",
       "      <td>2</td>\n",
       "      <td>anger</td>\n",
       "      <td>When I had been obviously unjustly treated and...</td>\n",
       "    </tr>\n",
       "    <tr>\n",
       "      <th>3</th>\n",
       "      <td>3</td>\n",
       "      <td>sadness</td>\n",
       "      <td>When I think about the short time that we live...</td>\n",
       "    </tr>\n",
       "    <tr>\n",
       "      <th>4</th>\n",
       "      <td>4</td>\n",
       "      <td>disgust</td>\n",
       "      <td>At a gathering I found myself involuntarily si...</td>\n",
       "    </tr>\n",
       "  </tbody>\n",
       "</table>\n",
       "</div>"
      ],
      "text/plain": [
       "   0        1                                                  2\n",
       "0  0      joy  On days when I feel close to my partner and ot...\n",
       "1  1     fear  Every time I imagine that someone I love or I ...\n",
       "2  2    anger  When I had been obviously unjustly treated and...\n",
       "3  3  sadness  When I think about the short time that we live...\n",
       "4  4  disgust  At a gathering I found myself involuntarily si..."
      ]
     },
     "execution_count": 3,
     "metadata": {},
     "output_type": "execute_result"
    }
   ],
   "source": [
    "emotion_df = pd.read_csv(\"/kaggle/input/nlpdataset/1-P-3-ISEAR.csv\",header=None)\n",
    "emotion_df.head()"
   ]
  },
  {
   "cell_type": "code",
   "execution_count": 4,
   "metadata": {
    "execution": {
     "iopub.execute_input": "2021-08-03T10:18:40.144459Z",
     "iopub.status.busy": "2021-08-03T10:18:40.143785Z",
     "iopub.status.idle": "2021-08-03T10:18:40.152252Z",
     "shell.execute_reply": "2021-08-03T10:18:40.152677Z",
     "shell.execute_reply.started": "2021-08-03T08:34:14.964479Z"
    },
    "papermill": {
     "duration": 0.042333,
     "end_time": "2021-08-03T10:18:40.152864",
     "exception": false,
     "start_time": "2021-08-03T10:18:40.110531",
     "status": "completed"
    },
    "tags": []
   },
   "outputs": [
    {
     "data": {
      "text/html": [
       "<div>\n",
       "<style scoped>\n",
       "    .dataframe tbody tr th:only-of-type {\n",
       "        vertical-align: middle;\n",
       "    }\n",
       "\n",
       "    .dataframe tbody tr th {\n",
       "        vertical-align: top;\n",
       "    }\n",
       "\n",
       "    .dataframe thead th {\n",
       "        text-align: right;\n",
       "    }\n",
       "</style>\n",
       "<table border=\"1\" class=\"dataframe\">\n",
       "  <thead>\n",
       "    <tr style=\"text-align: right;\">\n",
       "      <th></th>\n",
       "      <th>Target</th>\n",
       "      <th>Sentence</th>\n",
       "    </tr>\n",
       "  </thead>\n",
       "  <tbody>\n",
       "    <tr>\n",
       "      <th>0</th>\n",
       "      <td>joy</td>\n",
       "      <td>On days when I feel close to my partner and ot...</td>\n",
       "    </tr>\n",
       "    <tr>\n",
       "      <th>1</th>\n",
       "      <td>fear</td>\n",
       "      <td>Every time I imagine that someone I love or I ...</td>\n",
       "    </tr>\n",
       "    <tr>\n",
       "      <th>2</th>\n",
       "      <td>anger</td>\n",
       "      <td>When I had been obviously unjustly treated and...</td>\n",
       "    </tr>\n",
       "    <tr>\n",
       "      <th>3</th>\n",
       "      <td>sadness</td>\n",
       "      <td>When I think about the short time that we live...</td>\n",
       "    </tr>\n",
       "    <tr>\n",
       "      <th>4</th>\n",
       "      <td>disgust</td>\n",
       "      <td>At a gathering I found myself involuntarily si...</td>\n",
       "    </tr>\n",
       "  </tbody>\n",
       "</table>\n",
       "</div>"
      ],
      "text/plain": [
       "    Target                                           Sentence\n",
       "0      joy  On days when I feel close to my partner and ot...\n",
       "1     fear  Every time I imagine that someone I love or I ...\n",
       "2    anger  When I had been obviously unjustly treated and...\n",
       "3  sadness  When I think about the short time that we live...\n",
       "4  disgust  At a gathering I found myself involuntarily si..."
      ]
     },
     "execution_count": 4,
     "metadata": {},
     "output_type": "execute_result"
    }
   ],
   "source": [
    "emotion_df.columns = ['sn','Target','Sentence']\n",
    "emotion_df.drop('sn',inplace=True,axis =1)\n",
    "emotion_df.head()"
   ]
  },
  {
   "cell_type": "code",
   "execution_count": 5,
   "metadata": {
    "execution": {
     "iopub.execute_input": "2021-08-03T10:18:40.205417Z",
     "iopub.status.busy": "2021-08-03T10:18:40.204791Z",
     "iopub.status.idle": "2021-08-03T10:18:40.218299Z",
     "shell.execute_reply": "2021-08-03T10:18:40.217762Z",
     "shell.execute_reply.started": "2021-08-03T08:34:14.979092Z"
    },
    "papermill": {
     "duration": 0.040941,
     "end_time": "2021-08-03T10:18:40.218452",
     "exception": false,
     "start_time": "2021-08-03T10:18:40.177511",
     "status": "completed"
    },
    "tags": []
   },
   "outputs": [
    {
     "data": {
      "text/plain": [
       "55"
      ]
     },
     "execution_count": 5,
     "metadata": {},
     "output_type": "execute_result"
    }
   ],
   "source": [
    "emotion_df.duplicated().sum()"
   ]
  },
  {
   "cell_type": "code",
   "execution_count": 6,
   "metadata": {
    "execution": {
     "iopub.execute_input": "2021-08-03T10:18:40.275015Z",
     "iopub.status.busy": "2021-08-03T10:18:40.274133Z",
     "iopub.status.idle": "2021-08-03T10:18:40.284811Z",
     "shell.execute_reply": "2021-08-03T10:18:40.284177Z",
     "shell.execute_reply.started": "2021-08-03T08:34:15.002201Z"
    },
    "papermill": {
     "duration": 0.040563,
     "end_time": "2021-08-03T10:18:40.284947",
     "exception": false,
     "start_time": "2021-08-03T10:18:40.244384",
     "status": "completed"
    },
    "tags": []
   },
   "outputs": [],
   "source": [
    "emotion_df.drop_duplicates(inplace = True)"
   ]
  },
  {
   "cell_type": "code",
   "execution_count": 7,
   "metadata": {
    "execution": {
     "iopub.execute_input": "2021-08-03T10:18:40.343784Z",
     "iopub.status.busy": "2021-08-03T10:18:40.342971Z",
     "iopub.status.idle": "2021-08-03T10:18:40.346856Z",
     "shell.execute_reply": "2021-08-03T10:18:40.346316Z",
     "shell.execute_reply.started": "2021-08-03T08:34:15.015811Z"
    },
    "papermill": {
     "duration": 0.037181,
     "end_time": "2021-08-03T10:18:40.346998",
     "exception": false,
     "start_time": "2021-08-03T10:18:40.309817",
     "status": "completed"
    },
    "tags": []
   },
   "outputs": [
    {
     "data": {
      "text/plain": [
       "joy        1071\n",
       "anger      1069\n",
       "fear       1059\n",
       "disgust    1058\n",
       "shame      1049\n",
       "sadness    1046\n",
       "guilt      1039\n",
       "Name: Target, dtype: int64"
      ]
     },
     "execution_count": 7,
     "metadata": {},
     "output_type": "execute_result"
    }
   ],
   "source": [
    "emotion_df['Target'].value_counts()"
   ]
  },
  {
   "cell_type": "code",
   "execution_count": 8,
   "metadata": {
    "execution": {
     "iopub.execute_input": "2021-08-03T10:18:40.402349Z",
     "iopub.status.busy": "2021-08-03T10:18:40.401528Z",
     "iopub.status.idle": "2021-08-03T10:18:41.326166Z",
     "shell.execute_reply": "2021-08-03T10:18:41.326681Z",
     "shell.execute_reply.started": "2021-08-03T08:34:15.02906Z"
    },
    "papermill": {
     "duration": 0.954469,
     "end_time": "2021-08-03T10:18:41.326875",
     "exception": false,
     "start_time": "2021-08-03T10:18:40.372406",
     "status": "completed"
    },
    "tags": []
   },
   "outputs": [],
   "source": [
    "from sklearn.preprocessing import LabelEncoder\n",
    "\n",
    "le = LabelEncoder()\n",
    "emotion_df['Target'] = le.fit_transform(emotion_df['Target'])"
   ]
  },
  {
   "cell_type": "code",
   "execution_count": 9,
   "metadata": {
    "execution": {
     "iopub.execute_input": "2021-08-03T10:18:41.381096Z",
     "iopub.status.busy": "2021-08-03T10:18:41.380205Z",
     "iopub.status.idle": "2021-08-03T10:18:41.389633Z",
     "shell.execute_reply": "2021-08-03T10:18:41.390041Z",
     "shell.execute_reply.started": "2021-08-03T08:34:15.04414Z"
    },
    "papermill": {
     "duration": 0.038033,
     "end_time": "2021-08-03T10:18:41.390233",
     "exception": false,
     "start_time": "2021-08-03T10:18:41.352200",
     "status": "completed"
    },
    "tags": []
   },
   "outputs": [],
   "source": [
    "def lowercase(text):\n",
    "    '''a function lowercasing all characters'''\n",
    "    text = text.lower()\n",
    "    return text\n",
    "\n",
    "emotion_df['Sentence'] = emotion_df['Sentence'].apply(lowercase)"
   ]
  },
  {
   "cell_type": "code",
   "execution_count": 10,
   "metadata": {
    "execution": {
     "iopub.execute_input": "2021-08-03T10:18:41.472134Z",
     "iopub.status.busy": "2021-08-03T10:18:41.461851Z",
     "iopub.status.idle": "2021-08-03T10:18:41.579816Z",
     "shell.execute_reply": "2021-08-03T10:18:41.579254Z",
     "shell.execute_reply.started": "2021-08-03T08:34:15.062139Z"
    },
    "papermill": {
     "duration": 0.16447,
     "end_time": "2021-08-03T10:18:41.579951",
     "exception": false,
     "start_time": "2021-08-03T10:18:41.415481",
     "status": "completed"
    },
    "tags": []
   },
   "outputs": [],
   "source": [
    "import string\n",
    "\n",
    "def remove_punct_num(text):\n",
    "    '''a function for removing punctuation and number'''\n",
    "    text = \"\".join([char for char in text if char not in string.punctuation and not char.isdigit()])\n",
    "    return text\n",
    "\n",
    "\n",
    "emotion_df['Sentence'] = emotion_df['Sentence'].apply(remove_punct_num)"
   ]
  },
  {
   "cell_type": "code",
   "execution_count": 11,
   "metadata": {
    "execution": {
     "iopub.execute_input": "2021-08-03T10:18:41.637105Z",
     "iopub.status.busy": "2021-08-03T10:18:41.636497Z",
     "iopub.status.idle": "2021-08-03T10:18:42.613474Z",
     "shell.execute_reply": "2021-08-03T10:18:42.612990Z",
     "shell.execute_reply.started": "2021-08-03T08:34:15.245196Z"
    },
    "papermill": {
     "duration": 1.007065,
     "end_time": "2021-08-03T10:18:42.613613",
     "exception": false,
     "start_time": "2021-08-03T10:18:41.606548",
     "status": "completed"
    },
    "tags": []
   },
   "outputs": [
    {
     "name": "stdout",
     "output_type": "stream",
     "text": [
      "[nltk_data] Downloading package stopwords to /usr/share/nltk_data...\n",
      "[nltk_data]   Package stopwords is already up-to-date!\n"
     ]
    }
   ],
   "source": [
    "import nltk\n",
    "nltk.download('stopwords')\n",
    "from nltk.corpus import stopwords"
   ]
  },
  {
   "cell_type": "code",
   "execution_count": 12,
   "metadata": {
    "execution": {
     "iopub.execute_input": "2021-08-03T10:18:42.670076Z",
     "iopub.status.busy": "2021-08-03T10:18:42.669447Z",
     "iopub.status.idle": "2021-08-03T10:18:42.675021Z",
     "shell.execute_reply": "2021-08-03T10:18:42.674535Z",
     "shell.execute_reply.started": "2021-08-03T08:34:15.251062Z"
    },
    "papermill": {
     "duration": 0.035568,
     "end_time": "2021-08-03T10:18:42.675164",
     "exception": false,
     "start_time": "2021-08-03T10:18:42.639596",
     "status": "completed"
    },
    "tags": []
   },
   "outputs": [],
   "source": [
    "stop_words = stopwords.words('english')"
   ]
  },
  {
   "cell_type": "code",
   "execution_count": 13,
   "metadata": {
    "execution": {
     "iopub.execute_input": "2021-08-03T10:18:42.733749Z",
     "iopub.status.busy": "2021-08-03T10:18:42.733079Z",
     "iopub.status.idle": "2021-08-03T10:18:42.735922Z",
     "shell.execute_reply": "2021-08-03T10:18:42.735460Z",
     "shell.execute_reply.started": "2021-08-03T08:34:15.267107Z"
    },
    "papermill": {
     "duration": 0.034376,
     "end_time": "2021-08-03T10:18:42.736058",
     "exception": false,
     "start_time": "2021-08-03T10:18:42.701682",
     "status": "completed"
    },
    "tags": []
   },
   "outputs": [],
   "source": [
    "exceptionStopWords = {'aren',\"aren't\",\n",
    "                      'cannot','couldn',\"couldn't\",\n",
    "                      'didn',\"didn't\",'doesn',\"doesn't\",'don',\"don't\",\n",
    "                      'hadn',\"hadn't\",'hasn',\"hasn't\",'haven',\"haven't\",\n",
    "                      'isn',\"isn't\",\n",
    "                      'mightn',\"mightn't\",'must','mustn',\"mustn't\",\n",
    "                      'needn',\"needn't\",'neither','never','nevertheless','no','nobody','none','noone','nor','not','nothing',\n",
    "                      'should',\"should've\",'shouldn',\"shouldn't\",\n",
    "                      'wasn',\"wasn't\",'weren',\"weren't\",\"won't\",'wouldn',\"wouldn't\",\n",
    "                    }"
   ]
  },
  {
   "cell_type": "code",
   "execution_count": 14,
   "metadata": {
    "execution": {
     "iopub.execute_input": "2021-08-03T10:18:42.792718Z",
     "iopub.status.busy": "2021-08-03T10:18:42.792049Z",
     "iopub.status.idle": "2021-08-03T10:18:42.794716Z",
     "shell.execute_reply": "2021-08-03T10:18:42.795118Z",
     "shell.execute_reply.started": "2021-08-03T08:34:15.281777Z"
    },
    "papermill": {
     "duration": 0.033364,
     "end_time": "2021-08-03T10:18:42.795315",
     "exception": false,
     "start_time": "2021-08-03T10:18:42.761951",
     "status": "completed"
    },
    "tags": []
   },
   "outputs": [],
   "source": [
    "final_stop_words = set(stop_words)-exceptionStopWords"
   ]
  },
  {
   "cell_type": "code",
   "execution_count": 15,
   "metadata": {
    "execution": {
     "iopub.execute_input": "2021-08-03T10:18:42.868066Z",
     "iopub.status.busy": "2021-08-03T10:18:42.862758Z",
     "iopub.status.idle": "2021-08-03T10:18:42.888917Z",
     "shell.execute_reply": "2021-08-03T10:18:42.888099Z",
     "shell.execute_reply.started": "2021-08-03T08:34:15.296028Z"
    },
    "papermill": {
     "duration": 0.067505,
     "end_time": "2021-08-03T10:18:42.889073",
     "exception": false,
     "start_time": "2021-08-03T10:18:42.821568",
     "status": "completed"
    },
    "tags": []
   },
   "outputs": [],
   "source": [
    "def remove_stopwords(text):\n",
    "    \"\"\"\n",
    "    Removing stopwords belonging to english language\n",
    "    \"\"\"\n",
    "    text = [w for w in text.split() if w not in final_stop_words]\n",
    "    return ' '.join(text)\n",
    "\n",
    "emotion_df['Sentence'] = emotion_df['Sentence'].apply(remove_stopwords)"
   ]
  },
  {
   "cell_type": "code",
   "execution_count": 16,
   "metadata": {
    "execution": {
     "iopub.execute_input": "2021-08-03T10:18:42.946442Z",
     "iopub.status.busy": "2021-08-03T10:18:42.945791Z",
     "iopub.status.idle": "2021-08-03T10:18:43.006915Z",
     "shell.execute_reply": "2021-08-03T10:18:43.007742Z",
     "shell.execute_reply.started": "2021-08-03T08:34:15.351735Z"
    },
    "papermill": {
     "duration": 0.092777,
     "end_time": "2021-08-03T10:18:43.007983",
     "exception": false,
     "start_time": "2021-08-03T10:18:42.915206",
     "status": "completed"
    },
    "tags": []
   },
   "outputs": [
    {
     "name": "stdout",
     "output_type": "stream",
     "text": [
      "[nltk_data] Downloading package wordnet to /usr/share/nltk_data...\n",
      "[nltk_data]   Package wordnet is already up-to-date!\n"
     ]
    }
   ],
   "source": [
    "from nltk.stem import WordNetLemmatizer\n",
    "nltk.download('wordnet')\n",
    "from nltk.corpus import wordnet"
   ]
  },
  {
   "cell_type": "code",
   "execution_count": 17,
   "metadata": {
    "execution": {
     "iopub.execute_input": "2021-08-03T10:18:43.069808Z",
     "iopub.status.busy": "2021-08-03T10:18:43.069165Z",
     "iopub.status.idle": "2021-08-03T10:18:51.647279Z",
     "shell.execute_reply": "2021-08-03T10:18:51.647721Z",
     "shell.execute_reply.started": "2021-08-03T08:34:15.360375Z"
    },
    "papermill": {
     "duration": 8.612345,
     "end_time": "2021-08-03T10:18:51.647907",
     "exception": false,
     "start_time": "2021-08-03T10:18:43.035562",
     "status": "completed"
    },
    "tags": []
   },
   "outputs": [],
   "source": [
    "from nltk import pos_tag,word_tokenize\n",
    "lemmatizer = WordNetLemmatizer()\n",
    "\n",
    "def lemmatize(text):\n",
    "    \"\"\"\n",
    "    converting words to it's root form\n",
    "    \"\"\"\n",
    "    tmp_txt = []\n",
    "    for token,tag in pos_tag(word_tokenize(text)):\n",
    "        pos=tag[0].lower()\n",
    "            \n",
    "        if pos not in ['a', 'r', 'n', 'v']:\n",
    "            pos='n'\n",
    "        \n",
    "        tmp_txt.append(lemmatizer.lemmatize(token,pos))\n",
    "    return tmp_txt\n",
    "\n",
    "emotion_df['Sentence'] = emotion_df['Sentence'].apply(lemmatize)\n"
   ]
  },
  {
   "cell_type": "code",
   "execution_count": 18,
   "metadata": {
    "execution": {
     "iopub.execute_input": "2021-08-03T10:18:51.703438Z",
     "iopub.status.busy": "2021-08-03T10:18:51.702550Z",
     "iopub.status.idle": "2021-08-03T10:18:51.713416Z",
     "shell.execute_reply": "2021-08-03T10:18:51.713905Z",
     "shell.execute_reply.started": "2021-08-03T08:34:24.076076Z"
    },
    "papermill": {
     "duration": 0.03989,
     "end_time": "2021-08-03T10:18:51.714090",
     "exception": false,
     "start_time": "2021-08-03T10:18:51.674200",
     "status": "completed"
    },
    "tags": []
   },
   "outputs": [
    {
     "data": {
      "text/html": [
       "<div>\n",
       "<style scoped>\n",
       "    .dataframe tbody tr th:only-of-type {\n",
       "        vertical-align: middle;\n",
       "    }\n",
       "\n",
       "    .dataframe tbody tr th {\n",
       "        vertical-align: top;\n",
       "    }\n",
       "\n",
       "    .dataframe thead th {\n",
       "        text-align: right;\n",
       "    }\n",
       "</style>\n",
       "<table border=\"1\" class=\"dataframe\">\n",
       "  <thead>\n",
       "    <tr style=\"text-align: right;\">\n",
       "      <th></th>\n",
       "      <th>Target</th>\n",
       "      <th>Sentence</th>\n",
       "    </tr>\n",
       "  </thead>\n",
       "  <tbody>\n",
       "    <tr>\n",
       "      <th>0</th>\n",
       "      <td>4</td>\n",
       "      <td>[day, feel, close, partner, friend, feel, peac...</td>\n",
       "    </tr>\n",
       "    <tr>\n",
       "      <th>1</th>\n",
       "      <td>2</td>\n",
       "      <td>[every, time, imagine, someone, love, could, c...</td>\n",
       "    </tr>\n",
       "    <tr>\n",
       "      <th>2</th>\n",
       "      <td>0</td>\n",
       "      <td>[obviously, unjustly, treat, no, possibility, ...</td>\n",
       "    </tr>\n",
       "    <tr>\n",
       "      <th>3</th>\n",
       "      <td>5</td>\n",
       "      <td>[think, short, time, live, relate, period, lif...</td>\n",
       "    </tr>\n",
       "    <tr>\n",
       "      <th>4</th>\n",
       "      <td>1</td>\n",
       "      <td>[gather, find, involuntarily, sit, next, two, ...</td>\n",
       "    </tr>\n",
       "  </tbody>\n",
       "</table>\n",
       "</div>"
      ],
      "text/plain": [
       "   Target                                           Sentence\n",
       "0       4  [day, feel, close, partner, friend, feel, peac...\n",
       "1       2  [every, time, imagine, someone, love, could, c...\n",
       "2       0  [obviously, unjustly, treat, no, possibility, ...\n",
       "3       5  [think, short, time, live, relate, period, lif...\n",
       "4       1  [gather, find, involuntarily, sit, next, two, ..."
      ]
     },
     "execution_count": 18,
     "metadata": {},
     "output_type": "execute_result"
    }
   ],
   "source": [
    "emotion_df.head()"
   ]
  },
  {
   "cell_type": "code",
   "execution_count": 19,
   "metadata": {
    "execution": {
     "iopub.execute_input": "2021-08-03T10:18:51.770403Z",
     "iopub.status.busy": "2021-08-03T10:18:51.769774Z",
     "iopub.status.idle": "2021-08-03T10:18:51.775904Z",
     "shell.execute_reply": "2021-08-03T10:18:51.776343Z",
     "shell.execute_reply.started": "2021-08-03T08:34:24.111062Z"
    },
    "papermill": {
     "duration": 0.035672,
     "end_time": "2021-08-03T10:18:51.776513",
     "exception": false,
     "start_time": "2021-08-03T10:18:51.740841",
     "status": "completed"
    },
    "tags": []
   },
   "outputs": [],
   "source": [
    "from sklearn.model_selection import train_test_split\n",
    "\n",
    "X = emotion_df['Sentence']\n",
    "y = emotion_df['Target']\n",
    "\n",
    "X_train, X_test, y_train, y_test = train_test_split(X, y, test_size = 0.2,random_state=10)"
   ]
  },
  {
   "cell_type": "code",
   "execution_count": 20,
   "metadata": {
    "execution": {
     "iopub.execute_input": "2021-08-03T10:18:51.834855Z",
     "iopub.status.busy": "2021-08-03T10:18:51.834253Z",
     "iopub.status.idle": "2021-08-03T10:18:52.080092Z",
     "shell.execute_reply": "2021-08-03T10:18:52.079572Z",
     "shell.execute_reply.started": "2021-08-03T08:34:24.127967Z"
    },
    "papermill": {
     "duration": 0.277271,
     "end_time": "2021-08-03T10:18:52.080262",
     "exception": false,
     "start_time": "2021-08-03T10:18:51.802991",
     "status": "completed"
    },
    "tags": []
   },
   "outputs": [],
   "source": [
    "from gensim.models.doc2vec import Doc2Vec, TaggedDocument"
   ]
  },
  {
   "cell_type": "code",
   "execution_count": 21,
   "metadata": {
    "execution": {
     "iopub.execute_input": "2021-08-03T10:18:52.145247Z",
     "iopub.status.busy": "2021-08-03T10:18:52.144334Z",
     "iopub.status.idle": "2021-08-03T10:18:52.147492Z",
     "shell.execute_reply": "2021-08-03T10:18:52.146998Z",
     "shell.execute_reply.started": "2021-08-03T08:34:24.140062Z"
    },
    "papermill": {
     "duration": 0.040199,
     "end_time": "2021-08-03T10:18:52.147635",
     "exception": false,
     "start_time": "2021-08-03T10:18:52.107436",
     "status": "completed"
    },
    "tags": []
   },
   "outputs": [],
   "source": [
    "documents = [TaggedDocument(doc, [i]) for i, doc in enumerate(X_train)]"
   ]
  },
  {
   "cell_type": "code",
   "execution_count": 22,
   "metadata": {
    "execution": {
     "iopub.execute_input": "2021-08-03T10:18:52.206024Z",
     "iopub.status.busy": "2021-08-03T10:18:52.205413Z",
     "iopub.status.idle": "2021-08-03T10:18:57.865165Z",
     "shell.execute_reply": "2021-08-03T10:18:57.864675Z",
     "shell.execute_reply.started": "2021-08-03T08:34:24.165637Z"
    },
    "papermill": {
     "duration": 5.690778,
     "end_time": "2021-08-03T10:18:57.865330",
     "exception": false,
     "start_time": "2021-08-03T10:18:52.174552",
     "status": "completed"
    },
    "tags": []
   },
   "outputs": [],
   "source": [
    "doc_model = Doc2Vec(documents, vector_size=50, window=2, min_count=2, workers=4)"
   ]
  },
  {
   "cell_type": "code",
   "execution_count": 23,
   "metadata": {
    "execution": {
     "iopub.execute_input": "2021-08-03T10:18:57.924175Z",
     "iopub.status.busy": "2021-08-03T10:18:57.923245Z",
     "iopub.status.idle": "2021-08-03T10:18:57.925591Z",
     "shell.execute_reply": "2021-08-03T10:18:57.925991Z",
     "shell.execute_reply.started": "2021-08-03T08:34:30.656396Z"
    },
    "papermill": {
     "duration": 0.034427,
     "end_time": "2021-08-03T10:18:57.926160",
     "exception": false,
     "start_time": "2021-08-03T10:18:57.891733",
     "status": "completed"
    },
    "tags": []
   },
   "outputs": [],
   "source": [
    "def get_sent_vectors(data):\n",
    "    data_vectors = []\n",
    "    for sent in data:\n",
    "        data_vectors.append(doc_model.infer_vector(sent))\n",
    "    return data_vectors"
   ]
  },
  {
   "cell_type": "code",
   "execution_count": 24,
   "metadata": {
    "execution": {
     "iopub.execute_input": "2021-08-03T10:18:57.983385Z",
     "iopub.status.busy": "2021-08-03T10:18:57.982459Z",
     "iopub.status.idle": "2021-08-03T10:19:01.713993Z",
     "shell.execute_reply": "2021-08-03T10:19:01.714448Z",
     "shell.execute_reply.started": "2021-08-03T08:34:30.663683Z"
    },
    "papermill": {
     "duration": 3.762229,
     "end_time": "2021-08-03T10:19:01.714628",
     "exception": false,
     "start_time": "2021-08-03T10:18:57.952399",
     "status": "completed"
    },
    "tags": []
   },
   "outputs": [],
   "source": [
    "train_sent_vectors = get_sent_vectors(X_train)\n",
    "test_sent_vectors = get_sent_vectors(X_test)"
   ]
  },
  {
   "cell_type": "code",
   "execution_count": 25,
   "metadata": {
    "execution": {
     "iopub.execute_input": "2021-08-03T10:19:01.772907Z",
     "iopub.status.busy": "2021-08-03T10:19:01.771936Z",
     "iopub.status.idle": "2021-08-03T10:19:01.783323Z",
     "shell.execute_reply": "2021-08-03T10:19:01.783755Z",
     "shell.execute_reply.started": "2021-08-03T08:34:35.446839Z"
    },
    "papermill": {
     "duration": 0.043054,
     "end_time": "2021-08-03T10:19:01.783932",
     "exception": false,
     "start_time": "2021-08-03T10:19:01.740878",
     "status": "completed"
    },
    "tags": []
   },
   "outputs": [],
   "source": [
    "train_sent_vectors = np.array(train_sent_vectors)\n",
    "test_sent_vectors = np.array(test_sent_vectors)"
   ]
  },
  {
   "cell_type": "code",
   "execution_count": 26,
   "metadata": {
    "execution": {
     "iopub.execute_input": "2021-08-03T10:19:01.842605Z",
     "iopub.status.busy": "2021-08-03T10:19:01.841633Z",
     "iopub.status.idle": "2021-08-03T10:19:01.845719Z",
     "shell.execute_reply": "2021-08-03T10:19:01.846206Z",
     "shell.execute_reply.started": "2021-08-03T08:34:35.463424Z"
    },
    "papermill": {
     "duration": 0.035773,
     "end_time": "2021-08-03T10:19:01.846421",
     "exception": false,
     "start_time": "2021-08-03T10:19:01.810648",
     "status": "completed"
    },
    "tags": []
   },
   "outputs": [],
   "source": [
    "train_labels = np.array(y_train)\n",
    "test_labels = np.array(y_test)"
   ]
  },
  {
   "cell_type": "code",
   "execution_count": 27,
   "metadata": {
    "execution": {
     "iopub.execute_input": "2021-08-03T10:19:01.903418Z",
     "iopub.status.busy": "2021-08-03T10:19:01.902457Z",
     "iopub.status.idle": "2021-08-03T10:19:01.930153Z",
     "shell.execute_reply": "2021-08-03T10:19:01.929597Z",
     "shell.execute_reply.started": "2021-08-03T08:34:35.46957Z"
    },
    "papermill": {
     "duration": 0.057048,
     "end_time": "2021-08-03T10:19:01.930351",
     "exception": false,
     "start_time": "2021-08-03T10:19:01.873303",
     "status": "completed"
    },
    "tags": []
   },
   "outputs": [],
   "source": [
    "import torch\n",
    "from torch.utils.data import TensorDataset, DataLoader\n",
    "import torch.nn as nn\n",
    "import torch.nn.functional as F\n",
    "\n",
    "train_data = TensorDataset(torch.from_numpy(train_sent_vectors), torch.squeeze(torch.from_numpy(train_labels)))\n",
    "test_data = TensorDataset(torch.from_numpy(test_sent_vectors), torch.squeeze(torch.from_numpy(test_labels)))\n",
    "\n",
    "batch_size = 128\n",
    "\n",
    "train_loader = DataLoader(train_data, shuffle=True, batch_size=batch_size)\n",
    "test_loader = DataLoader(test_data, shuffle=True, batch_size=batch_size)"
   ]
  },
  {
   "cell_type": "code",
   "execution_count": 28,
   "metadata": {
    "execution": {
     "iopub.execute_input": "2021-08-03T10:19:01.992651Z",
     "iopub.status.busy": "2021-08-03T10:19:01.992017Z",
     "iopub.status.idle": "2021-08-03T10:19:02.051740Z",
     "shell.execute_reply": "2021-08-03T10:19:02.051093Z",
     "shell.execute_reply.started": "2021-08-03T08:34:35.487783Z"
    },
    "papermill": {
     "duration": 0.09525,
     "end_time": "2021-08-03T10:19:02.051876",
     "exception": false,
     "start_time": "2021-08-03T10:19:01.956626",
     "status": "completed"
    },
    "tags": []
   },
   "outputs": [
    {
     "data": {
      "text/plain": [
       "(tensor([-0.0255, -0.0024, -0.0114, -0.0096,  0.0114, -0.0678,  0.0456,  0.0811,\n",
       "         -0.1063,  0.0075,  0.0050, -0.0793,  0.0111,  0.0210, -0.0431,  0.0113,\n",
       "          0.0307, -0.0336, -0.0641, -0.0484, -0.0081,  0.0290,  0.1107, -0.0290,\n",
       "          0.0702,  0.0030, -0.0357, -0.0291, -0.1114, -0.0047,  0.0369,  0.0373,\n",
       "         -0.0368,  0.0329, -0.0558,  0.0637, -0.0011,  0.0111,  0.0476, -0.0255,\n",
       "          0.0469,  0.0078, -0.0272,  0.0134,  0.1039,  0.0180, -0.0095, -0.0660,\n",
       "          0.0261,  0.0188]),\n",
       " tensor(4))"
      ]
     },
     "execution_count": 28,
     "metadata": {},
     "output_type": "execute_result"
    }
   ],
   "source": [
    "train_data[0]"
   ]
  },
  {
   "cell_type": "code",
   "execution_count": 29,
   "metadata": {
    "execution": {
     "iopub.execute_input": "2021-08-03T10:19:02.110581Z",
     "iopub.status.busy": "2021-08-03T10:19:02.109884Z",
     "iopub.status.idle": "2021-08-03T10:19:02.112831Z",
     "shell.execute_reply": "2021-08-03T10:19:02.112375Z",
     "shell.execute_reply.started": "2021-08-03T08:34:35.5087Z"
    },
    "papermill": {
     "duration": 0.034636,
     "end_time": "2021-08-03T10:19:02.112971",
     "exception": false,
     "start_time": "2021-08-03T10:19:02.078335",
     "status": "completed"
    },
    "tags": []
   },
   "outputs": [],
   "source": [
    "device = torch.device(\"cuda:0\" if torch.cuda.is_available() else \"cpu\")"
   ]
  },
  {
   "cell_type": "code",
   "execution_count": 30,
   "metadata": {
    "execution": {
     "iopub.execute_input": "2021-08-03T10:19:02.173791Z",
     "iopub.status.busy": "2021-08-03T10:19:02.173059Z",
     "iopub.status.idle": "2021-08-03T10:19:02.176150Z",
     "shell.execute_reply": "2021-08-03T10:19:02.175657Z",
     "shell.execute_reply.started": "2021-08-03T08:34:35.517703Z"
    },
    "papermill": {
     "duration": 0.036983,
     "end_time": "2021-08-03T10:19:02.176317",
     "exception": false,
     "start_time": "2021-08-03T10:19:02.139334",
     "status": "completed"
    },
    "tags": []
   },
   "outputs": [],
   "source": [
    "class LSTMModel(nn.Module):\n",
    "    \n",
    "    def __init__(self, vocab_size,output_size, embedding_dim, hidden_size, num_layers,dropout = 0.1):\n",
    "        super().__init__()\n",
    "        self.embedding = nn.Embedding(vocab_size, embedding_dim)\n",
    "        self.lstm = nn.LSTM(input_size = embedding_dim, \n",
    "                            hidden_size = hidden_size, \n",
    "                            num_layers = num_layers,\n",
    "                            dropout = dropout,\n",
    "                            batch_first = True,\n",
    "                            bidirectional = True)\n",
    "        self.linear = nn.Linear(hidden_size*2, output_size)\n",
    "        \n",
    "    def forward(self, inputs):\n",
    "        emb = self.embedding(inputs)\n",
    "        \n",
    "        h0 = torch.zeros(n_layers*2, inputs.size(0), hidden_dim).requires_grad_().to(device)\n",
    "        c0 = torch.zeros(n_layers*2, inputs.size(0), hidden_dim).requires_grad_().to(device)\n",
    "        \n",
    "        lstm_out, h = self.lstm(emb, (h0, c0))\n",
    "        \n",
    "        lstm_out = lstm_out[:, -1, :]\n",
    "        \n",
    "        lstm_out = F.dropout(lstm_out, 0.1)\n",
    "        \n",
    "        output = self.linear(lstm_out)\n",
    "        \n",
    "        return output\n"
   ]
  },
  {
   "cell_type": "code",
   "execution_count": 31,
   "metadata": {
    "execution": {
     "iopub.execute_input": "2021-08-03T10:19:02.233595Z",
     "iopub.status.busy": "2021-08-03T10:19:02.232921Z",
     "iopub.status.idle": "2021-08-03T10:19:02.236935Z",
     "shell.execute_reply": "2021-08-03T10:19:02.237560Z",
     "shell.execute_reply.started": "2021-08-03T08:34:35.53111Z"
    },
    "papermill": {
     "duration": 0.035411,
     "end_time": "2021-08-03T10:19:02.237798",
     "exception": false,
     "start_time": "2021-08-03T10:19:02.202387",
     "status": "completed"
    },
    "tags": []
   },
   "outputs": [
    {
     "name": "stdout",
     "output_type": "stream",
     "text": [
      "3312\n"
     ]
    }
   ],
   "source": [
    "vocab = len(doc_model.wv.index_to_key)\n",
    "print(vocab)"
   ]
  },
  {
   "cell_type": "code",
   "execution_count": 32,
   "metadata": {
    "execution": {
     "iopub.execute_input": "2021-08-03T10:19:02.297349Z",
     "iopub.status.busy": "2021-08-03T10:19:02.296742Z",
     "iopub.status.idle": "2021-08-03T10:19:02.310537Z",
     "shell.execute_reply": "2021-08-03T10:19:02.309860Z",
     "shell.execute_reply.started": "2021-08-03T08:34:35.545322Z"
    },
    "papermill": {
     "duration": 0.045216,
     "end_time": "2021-08-03T10:19:02.310681",
     "exception": false,
     "start_time": "2021-08-03T10:19:02.265465",
     "status": "completed"
    },
    "tags": []
   },
   "outputs": [],
   "source": [
    "vocab_size = vocab + 1\n",
    "embedding_dim = 50\n",
    "hidden_dim = 32\n",
    "n_layers = 2\n",
    "output_size = 7\n",
    "\n",
    "\n",
    "model = LSTMModel(vocab_size,output_size, embedding_dim, hidden_dim, n_layers).to(device)"
   ]
  },
  {
   "cell_type": "code",
   "execution_count": 33,
   "metadata": {
    "execution": {
     "iopub.execute_input": "2021-08-03T10:19:02.369951Z",
     "iopub.status.busy": "2021-08-03T10:19:02.369250Z",
     "iopub.status.idle": "2021-08-03T10:19:02.373248Z",
     "shell.execute_reply": "2021-08-03T10:19:02.372653Z",
     "shell.execute_reply.started": "2021-08-03T08:34:35.562806Z"
    },
    "papermill": {
     "duration": 0.036342,
     "end_time": "2021-08-03T10:19:02.373400",
     "exception": false,
     "start_time": "2021-08-03T10:19:02.337058",
     "status": "completed"
    },
    "tags": []
   },
   "outputs": [
    {
     "data": {
      "text/plain": [
       "LSTMModel(\n",
       "  (embedding): Embedding(3313, 50)\n",
       "  (lstm): LSTM(50, 32, num_layers=2, batch_first=True, dropout=0.1, bidirectional=True)\n",
       "  (linear): Linear(in_features=64, out_features=7, bias=True)\n",
       ")"
      ]
     },
     "execution_count": 33,
     "metadata": {},
     "output_type": "execute_result"
    }
   ],
   "source": [
    "model"
   ]
  },
  {
   "cell_type": "code",
   "execution_count": 34,
   "metadata": {
    "execution": {
     "iopub.execute_input": "2021-08-03T10:19:02.432076Z",
     "iopub.status.busy": "2021-08-03T10:19:02.431489Z",
     "iopub.status.idle": "2021-08-03T10:19:02.434514Z",
     "shell.execute_reply": "2021-08-03T10:19:02.433986Z",
     "shell.execute_reply.started": "2021-08-03T08:34:35.572276Z"
    },
    "papermill": {
     "duration": 0.034373,
     "end_time": "2021-08-03T10:19:02.434656",
     "exception": false,
     "start_time": "2021-08-03T10:19:02.400283",
     "status": "completed"
    },
    "tags": []
   },
   "outputs": [],
   "source": [
    "criterion = nn.CrossEntropyLoss()"
   ]
  },
  {
   "cell_type": "code",
   "execution_count": 35,
   "metadata": {
    "execution": {
     "iopub.execute_input": "2021-08-03T10:19:02.494686Z",
     "iopub.status.busy": "2021-08-03T10:19:02.494046Z",
     "iopub.status.idle": "2021-08-03T10:19:02.496907Z",
     "shell.execute_reply": "2021-08-03T10:19:02.496339Z",
     "shell.execute_reply.started": "2021-08-03T08:34:35.584106Z"
    },
    "papermill": {
     "duration": 0.034436,
     "end_time": "2021-08-03T10:19:02.497042",
     "exception": false,
     "start_time": "2021-08-03T10:19:02.462606",
     "status": "completed"
    },
    "tags": []
   },
   "outputs": [],
   "source": [
    "optimizer = torch.optim.Adam(model.parameters(), lr=0.01)"
   ]
  },
  {
   "cell_type": "code",
   "execution_count": 36,
   "metadata": {
    "execution": {
     "iopub.execute_input": "2021-08-03T10:19:02.561686Z",
     "iopub.status.busy": "2021-08-03T10:19:02.560497Z",
     "iopub.status.idle": "2021-08-03T10:19:32.071684Z",
     "shell.execute_reply": "2021-08-03T10:19:32.072147Z",
     "shell.execute_reply.started": "2021-08-03T08:34:35.60036Z"
    },
    "papermill": {
     "duration": 29.548577,
     "end_time": "2021-08-03T10:19:32.072366",
     "exception": false,
     "start_time": "2021-08-03T10:19:02.523789",
     "status": "completed"
    },
    "tags": []
   },
   "outputs": [
    {
     "name": "stdout",
     "output_type": "stream",
     "text": [
      "Epoch [1/5], Step [10/46], Loss: 1.9480\n",
      "Epoch [1/5], Step [20/46], Loss: 1.9541\n",
      "Epoch [1/5], Step [30/46], Loss: 1.9547\n",
      "Epoch [1/5], Step [40/46], Loss: 1.9498\n",
      "Epoch [2/5], Step [10/46], Loss: 1.9492\n",
      "Epoch [2/5], Step [20/46], Loss: 1.9482\n",
      "Epoch [2/5], Step [30/46], Loss: 1.9444\n",
      "Epoch [2/5], Step [40/46], Loss: 1.9484\n",
      "Epoch [3/5], Step [10/46], Loss: 1.9444\n",
      "Epoch [3/5], Step [20/46], Loss: 1.9525\n",
      "Epoch [3/5], Step [30/46], Loss: 1.9483\n",
      "Epoch [3/5], Step [40/46], Loss: 1.9524\n",
      "Epoch [4/5], Step [10/46], Loss: 1.9529\n",
      "Epoch [4/5], Step [20/46], Loss: 1.9430\n",
      "Epoch [4/5], Step [30/46], Loss: 1.9411\n",
      "Epoch [4/5], Step [40/46], Loss: 1.9477\n",
      "Epoch [5/5], Step [10/46], Loss: 1.9442\n",
      "Epoch [5/5], Step [20/46], Loss: 1.9430\n",
      "Epoch [5/5], Step [30/46], Loss: 1.9448\n",
      "Epoch [5/5], Step [40/46], Loss: 1.9439\n"
     ]
    }
   ],
   "source": [
    "num_epochs  = 5\n",
    "\n",
    "loss_list = []\n",
    "iteration_list_train = []\n",
    "count_train = 0\n",
    "\n",
    "for epoch in range(num_epochs):\n",
    "    for i, (inputs, targets) in enumerate(train_loader):\n",
    "            inputs, targets = inputs.to(device), targets.to(device)\n",
    "            \n",
    "            # Compute the forward pass through the network up to the loss\n",
    "            outputs = model(inputs.long())\n",
    "\n",
    "            loss = criterion(outputs, targets)\n",
    "\n",
    "            loss_list.append(loss.data) \n",
    "\n",
    "            # Backward and optimize\n",
    "\n",
    "            loss.backward()\n",
    "            optimizer.step()\n",
    "            optimizer.zero_grad()\n",
    "\n",
    "            count_train += 1\n",
    "            iteration_list_train.append(count_train) \n",
    "\n",
    "            if (i+1) % 10 == 0:                    \n",
    "                print('Epoch [%d/%d], Step [%d/%d], Loss: %.4f'\n",
    "                     %(epoch+1, num_epochs, i+1, len(train_data)//128, loss.item()))\n",
    "  "
   ]
  },
  {
   "cell_type": "code",
   "execution_count": 37,
   "metadata": {
    "execution": {
     "iopub.execute_input": "2021-08-03T10:19:32.155939Z",
     "iopub.status.busy": "2021-08-03T10:19:32.155272Z",
     "iopub.status.idle": "2021-08-03T10:19:32.300666Z",
     "shell.execute_reply": "2021-08-03T10:19:32.300137Z",
     "shell.execute_reply.started": "2021-08-03T08:35:39.559735Z"
    },
    "papermill": {
     "duration": 0.197219,
     "end_time": "2021-08-03T10:19:32.300814",
     "exception": false,
     "start_time": "2021-08-03T10:19:32.103595",
     "status": "completed"
    },
    "tags": []
   },
   "outputs": [
    {
     "data": {
      "image/png": "[encoded data removed]",
      "text/plain": [
       "<Figure size 432x288 with 1 Axes>"
      ]
     },
     "metadata": {
      "needs_background": "light"
     },
     "output_type": "display_data"
    }
   ],
   "source": [
    "import matplotlib.pyplot as plt\n",
    "\n",
    "plt.plot(iteration_list_train, loss_list)\n",
    "plt.xlabel(\"No. of Iterations\")\n",
    "plt.ylabel(\"Loss\")\n",
    "plt.title(\"Iterations vs Loss\")\n",
    "plt.show()"
   ]
  },
  {
   "cell_type": "code",
   "execution_count": 38,
   "metadata": {
    "execution": {
     "iopub.execute_input": "2021-08-03T10:19:32.373978Z",
     "iopub.status.busy": "2021-08-03T10:19:32.373352Z",
     "iopub.status.idle": "2021-08-03T10:19:32.945472Z",
     "shell.execute_reply": "2021-08-03T10:19:32.944567Z",
     "shell.execute_reply.started": "2021-08-03T08:35:39.70761Z"
    },
    "papermill": {
     "duration": 0.611614,
     "end_time": "2021-08-03T10:19:32.945656",
     "exception": false,
     "start_time": "2021-08-03T10:19:32.334042",
     "status": "completed"
    },
    "tags": []
   },
   "outputs": [
    {
     "name": "stdout",
     "output_type": "stream",
     "text": [
      "Accuracy of the network on the test: 12 %\n"
     ]
    }
   ],
   "source": [
    "accuracy_list = []\n",
    "iteration_list_test = []\n",
    "count_test = 0\n",
    "\n",
    "y_pred = []\n",
    "y_true = []\n",
    "\n",
    "correct = 0\n",
    "total = 0\n",
    "for inputs, targets in test_loader:\n",
    "    inputs, targets = inputs.to(device), targets.to(device)\n",
    "    \n",
    "    outputs = model(inputs.long())\n",
    "    _, predicted = torch.max(outputs.data, 1)\n",
    "\n",
    "    total += targets.size(0)                    \n",
    "    correct += (predicted == targets).sum()    \n",
    "\n",
    "    count_test += 1\n",
    "    iteration_list_test.append(count_test)  \n",
    "\n",
    "    accuracy = 100 * correct / total\n",
    "    accuracy_list.append(accuracy)\n",
    "    \n",
    "    y_pred.extend(predicted.cpu())\n",
    "    y_true.extend(targets.cpu())\n",
    "    \n",
    "print('Accuracy of the network on the test: %d %%' %accuracy)"
   ]
  },
  {
   "cell_type": "code",
   "execution_count": 39,
   "metadata": {
    "execution": {
     "iopub.execute_input": "2021-08-03T10:19:33.032643Z",
     "iopub.status.busy": "2021-08-03T10:19:33.032009Z",
     "iopub.status.idle": "2021-08-03T10:19:33.154505Z",
     "shell.execute_reply": "2021-08-03T10:19:33.154931Z",
     "shell.execute_reply.started": "2021-08-03T08:35:40.346606Z"
    },
    "papermill": {
     "duration": 0.176552,
     "end_time": "2021-08-03T10:19:33.155105",
     "exception": false,
     "start_time": "2021-08-03T10:19:32.978553",
     "status": "completed"
    },
    "tags": []
   },
   "outputs": [
    {
     "data": {
      "image/png": "[encoded data removed]",
      "text/plain": [
       "<Figure size 432x288 with 1 Axes>"
      ]
     },
     "metadata": {
      "needs_background": "light"
     },
     "output_type": "display_data"
    }
   ],
   "source": [
    "plt.plot(iteration_list_test, accuracy_list)\n",
    "plt.xlabel(\"No. of Iterations\")\n",
    "plt.ylabel(\"Accuracy\")\n",
    "plt.title(\"Iterations vs Accuracy\")\n",
    "plt.show()"
   ]
  }
 ],
 "metadata": {
  "kernelspec": {
   "display_name": "Python 3",
   "language": "python",
   "name": "python3"
  },
  "language_info": {
   "codemirror_mode": {
    "name": "ipython",
    "version": 3
   },
   "file_extension": ".py",
   "mimetype": "text/x-python",
   "name": "python",
   "nbconvert_exporter": "python",
   "pygments_lexer": "ipython3",
   "version": "3.8.3"
  },
  "papermill": {
   "default_parameters": {},
   "duration": 63.830316,
   "end_time": "2021-08-03T10:19:34.848592",
   "environment_variables": {},
   "exception": true,
   "input_path": "__notebook__.ipynb",
   "output_path": "__notebook__.ipynb",
   "parameters": {},
   "start_time": "2021-08-03T10:18:31.018276",
   "version": "2.3.3"
  }
 },
 "nbformat": 4,
 "nbformat_minor": 5
}
