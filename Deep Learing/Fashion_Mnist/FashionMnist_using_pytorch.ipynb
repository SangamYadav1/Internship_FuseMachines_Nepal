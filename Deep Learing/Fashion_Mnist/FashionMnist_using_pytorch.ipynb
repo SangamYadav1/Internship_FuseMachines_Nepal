{
  "nbformat": 4,
  "nbformat_minor": 0,
  "metadata": {
    "colab": {
      "name": "FashionMnist using pytorch.ipynb",
      "provenance": []
    },
    "kernelspec": {
      "name": "python3",
      "display_name": "Python 3"
    },
    "language_info": {
      "name": "python"
    },
    "widgets": {
      "application/vnd.jupyter.widget-state+json": {
        "f7688dff47db4710870b96e6b3010f4d": {
          "model_module": "@jupyter-widgets/controls",
          "model_name": "HBoxModel",
          "state": {
            "_view_name": "HBoxView",
            "_dom_classes": [],
            "_model_name": "HBoxModel",
            "_view_module": "@jupyter-widgets/controls",
            "_model_module_version": "1.5.0",
            "_view_count": null,
            "_view_module_version": "1.5.0",
            "box_style": "",
            "layout": "IPY_MODEL_8cf27506406d4b5da642b54a959cc1db",
            "_model_module": "@jupyter-widgets/controls",
            "children": [
              "IPY_MODEL_6c75d46c55f740f388e79527758c38e4",
              "IPY_MODEL_0581d7da17c3466b95f92f0344af4ec1"
            ]
          }
        },
        "8cf27506406d4b5da642b54a959cc1db": {
          "model_module": "@jupyter-widgets/base",
          "model_name": "LayoutModel",
          "state": {
            "_view_name": "LayoutView",
            "grid_template_rows": null,
            "right": null,
            "justify_content": null,
            "_view_module": "@jupyter-widgets/base",
            "overflow": null,
            "_model_module_version": "1.2.0",
            "_view_count": null,
            "flex_flow": null,
            "width": null,
            "min_width": null,
            "border": null,
            "align_items": null,
            "bottom": null,
            "_model_module": "@jupyter-widgets/base",
            "top": null,
            "grid_column": null,
            "overflow_y": null,
            "overflow_x": null,
            "grid_auto_flow": null,
            "grid_area": null,
            "grid_template_columns": null,
            "flex": null,
            "_model_name": "LayoutModel",
            "justify_items": null,
            "grid_row": null,
            "max_height": null,
            "align_content": null,
            "visibility": null,
            "align_self": null,
            "height": null,
            "min_height": null,
            "padding": null,
            "grid_auto_rows": null,
            "grid_gap": null,
            "max_width": null,
            "order": null,
            "_view_module_version": "1.2.0",
            "grid_template_areas": null,
            "object_position": null,
            "object_fit": null,
            "grid_auto_columns": null,
            "margin": null,
            "display": null,
            "left": null
          }
        },
        "6c75d46c55f740f388e79527758c38e4": {
          "model_module": "@jupyter-widgets/controls",
          "model_name": "FloatProgressModel",
          "state": {
            "_view_name": "ProgressView",
            "style": "IPY_MODEL_898cd25ccd664bbebb345f51db65da00",
            "_dom_classes": [],
            "description": "",
            "_model_name": "FloatProgressModel",
            "bar_style": "success",
            "max": 26421880,
            "_view_module": "@jupyter-widgets/controls",
            "_model_module_version": "1.5.0",
            "value": 26421880,
            "_view_count": null,
            "_view_module_version": "1.5.0",
            "orientation": "horizontal",
            "min": 0,
            "description_tooltip": null,
            "_model_module": "@jupyter-widgets/controls",
            "layout": "IPY_MODEL_c4440cf3c9834c159a97d17d64fcbc93"
          }
        },
        "0581d7da17c3466b95f92f0344af4ec1": {
          "model_module": "@jupyter-widgets/controls",
          "model_name": "HTMLModel",
          "state": {
            "_view_name": "HTMLView",
            "style": "IPY_MODEL_5f347c2299a74fce87f4c4a877d65c5e",
            "_dom_classes": [],
            "description": "",
            "_model_name": "HTMLModel",
            "placeholder": "​",
            "_view_module": "@jupyter-widgets/controls",
            "_model_module_version": "1.5.0",
            "value": " 26422272/? [00:08&lt;00:00, 3196053.90it/s]",
            "_view_count": null,
            "_view_module_version": "1.5.0",
            "description_tooltip": null,
            "_model_module": "@jupyter-widgets/controls",
            "layout": "IPY_MODEL_c96f8504482b49768ef620322d07cbb2"
          }
        },
        "898cd25ccd664bbebb345f51db65da00": {
          "model_module": "@jupyter-widgets/controls",
          "model_name": "ProgressStyleModel",
          "state": {
            "_view_name": "StyleView",
            "_model_name": "ProgressStyleModel",
            "description_width": "initial",
            "_view_module": "@jupyter-widgets/base",
            "_model_module_version": "1.5.0",
            "_view_count": null,
            "_view_module_version": "1.2.0",
            "bar_color": null,
            "_model_module": "@jupyter-widgets/controls"
          }
        },
        "c4440cf3c9834c159a97d17d64fcbc93": {
          "model_module": "@jupyter-widgets/base",
          "model_name": "LayoutModel",
          "state": {
            "_view_name": "LayoutView",
            "grid_template_rows": null,
            "right": null,
            "justify_content": null,
            "_view_module": "@jupyter-widgets/base",
            "overflow": null,
            "_model_module_version": "1.2.0",
            "_view_count": null,
            "flex_flow": null,
            "width": null,
            "min_width": null,
            "border": null,
            "align_items": null,
            "bottom": null,
            "_model_module": "@jupyter-widgets/base",
            "top": null,
            "grid_column": null,
            "overflow_y": null,
            "overflow_x": null,
            "grid_auto_flow": null,
            "grid_area": null,
            "grid_template_columns": null,
            "flex": null,
            "_model_name": "LayoutModel",
            "justify_items": null,
            "grid_row": null,
            "max_height": null,
            "align_content": null,
            "visibility": null,
            "align_self": null,
            "height": null,
            "min_height": null,
            "padding": null,
            "grid_auto_rows": null,
            "grid_gap": null,
            "max_width": null,
            "order": null,
            "_view_module_version": "1.2.0",
            "grid_template_areas": null,
            "object_position": null,
            "object_fit": null,
            "grid_auto_columns": null,
            "margin": null,
            "display": null,
            "left": null
          }
        },
        "5f347c2299a74fce87f4c4a877d65c5e": {
          "model_module": "@jupyter-widgets/controls",
          "model_name": "DescriptionStyleModel",
          "state": {
            "_view_name": "StyleView",
            "_model_name": "DescriptionStyleModel",
            "description_width": "",
            "_view_module": "@jupyter-widgets/base",
            "_model_module_version": "1.5.0",
            "_view_count": null,
            "_view_module_version": "1.2.0",
            "_model_module": "@jupyter-widgets/controls"
          }
        },
        "c96f8504482b49768ef620322d07cbb2": {
          "model_module": "@jupyter-widgets/base",
          "model_name": "LayoutModel",
          "state": {
            "_view_name": "LayoutView",
            "grid_template_rows": null,
            "right": null,
            "justify_content": null,
            "_view_module": "@jupyter-widgets/base",
            "overflow": null,
            "_model_module_version": "1.2.0",
            "_view_count": null,
            "flex_flow": null,
            "width": null,
            "min_width": null,
            "border": null,
            "align_items": null,
            "bottom": null,
            "_model_module": "@jupyter-widgets/base",
            "top": null,
            "grid_column": null,
            "overflow_y": null,
            "overflow_x": null,
            "grid_auto_flow": null,
            "grid_area": null,
            "grid_template_columns": null,
            "flex": null,
            "_model_name": "LayoutModel",
            "justify_items": null,
            "grid_row": null,
            "max_height": null,
            "align_content": null,
            "visibility": null,
            "align_self": null,
            "height": null,
            "min_height": null,
            "padding": null,
            "grid_auto_rows": null,
            "grid_gap": null,
            "max_width": null,
            "order": null,
            "_view_module_version": "1.2.0",
            "grid_template_areas": null,
            "object_position": null,
            "object_fit": null,
            "grid_auto_columns": null,
            "margin": null,
            "display": null,
            "left": null
          }
        },
        "08a590036d3a4925b2834fdf0557fd93": {
          "model_module": "@jupyter-widgets/controls",
          "model_name": "HBoxModel",
          "state": {
            "_view_name": "HBoxView",
            "_dom_classes": [],
            "_model_name": "HBoxModel",
            "_view_module": "@jupyter-widgets/controls",
            "_model_module_version": "1.5.0",
            "_view_count": null,
            "_view_module_version": "1.5.0",
            "box_style": "",
            "layout": "IPY_MODEL_51fb1c8c09ee4e969faa93204d65e2cb",
            "_model_module": "@jupyter-widgets/controls",
            "children": [
              "IPY_MODEL_ec6764933fbb4c2ba4722c8c8db0f331",
              "IPY_MODEL_85cfed3a9ff84e009307701ddde801ab"
            ]
          }
        },
        "51fb1c8c09ee4e969faa93204d65e2cb": {
          "model_module": "@jupyter-widgets/base",
          "model_name": "LayoutModel",
          "state": {
            "_view_name": "LayoutView",
            "grid_template_rows": null,
            "right": null,
            "justify_content": null,
            "_view_module": "@jupyter-widgets/base",
            "overflow": null,
            "_model_module_version": "1.2.0",
            "_view_count": null,
            "flex_flow": null,
            "width": null,
            "min_width": null,
            "border": null,
            "align_items": null,
            "bottom": null,
            "_model_module": "@jupyter-widgets/base",
            "top": null,
            "grid_column": null,
            "overflow_y": null,
            "overflow_x": null,
            "grid_auto_flow": null,
            "grid_area": null,
            "grid_template_columns": null,
            "flex": null,
            "_model_name": "LayoutModel",
            "justify_items": null,
            "grid_row": null,
            "max_height": null,
            "align_content": null,
            "visibility": null,
            "align_self": null,
            "height": null,
            "min_height": null,
            "padding": null,
            "grid_auto_rows": null,
            "grid_gap": null,
            "max_width": null,
            "order": null,
            "_view_module_version": "1.2.0",
            "grid_template_areas": null,
            "object_position": null,
            "object_fit": null,
            "grid_auto_columns": null,
            "margin": null,
            "display": null,
            "left": null
          }
        },
        "ec6764933fbb4c2ba4722c8c8db0f331": {
          "model_module": "@jupyter-widgets/controls",
          "model_name": "FloatProgressModel",
          "state": {
            "_view_name": "ProgressView",
            "style": "IPY_MODEL_2ac6e7e479b54ce0bdcc4f2cf3e2b359",
            "_dom_classes": [],
            "description": "",
            "_model_name": "FloatProgressModel",
            "bar_style": "success",
            "max": 29515,
            "_view_module": "@jupyter-widgets/controls",
            "_model_module_version": "1.5.0",
            "value": 29515,
            "_view_count": null,
            "_view_module_version": "1.5.0",
            "orientation": "horizontal",
            "min": 0,
            "description_tooltip": null,
            "_model_module": "@jupyter-widgets/controls",
            "layout": "IPY_MODEL_0bd5b653ef0341aba75a1f7cf363ea05"
          }
        },
        "85cfed3a9ff84e009307701ddde801ab": {
          "model_module": "@jupyter-widgets/controls",
          "model_name": "HTMLModel",
          "state": {
            "_view_name": "HTMLView",
            "style": "IPY_MODEL_41842e2135014321918dff4446641c98",
            "_dom_classes": [],
            "description": "",
            "_model_name": "HTMLModel",
            "placeholder": "​",
            "_view_module": "@jupyter-widgets/controls",
            "_model_module_version": "1.5.0",
            "value": " 29696/? [00:05&lt;00:00, 5110.66it/s]",
            "_view_count": null,
            "_view_module_version": "1.5.0",
            "description_tooltip": null,
            "_model_module": "@jupyter-widgets/controls",
            "layout": "IPY_MODEL_0e7dcd45c9864946b3ff2ce7460aca8d"
          }
        },
        "2ac6e7e479b54ce0bdcc4f2cf3e2b359": {
          "model_module": "@jupyter-widgets/controls",
          "model_name": "ProgressStyleModel",
          "state": {
            "_view_name": "StyleView",
            "_model_name": "ProgressStyleModel",
            "description_width": "initial",
            "_view_module": "@jupyter-widgets/base",
            "_model_module_version": "1.5.0",
            "_view_count": null,
            "_view_module_version": "1.2.0",
            "bar_color": null,
            "_model_module": "@jupyter-widgets/controls"
          }
        },
        "0bd5b653ef0341aba75a1f7cf363ea05": {
          "model_module": "@jupyter-widgets/base",
          "model_name": "LayoutModel",
          "state": {
            "_view_name": "LayoutView",
            "grid_template_rows": null,
            "right": null,
            "justify_content": null,
            "_view_module": "@jupyter-widgets/base",
            "overflow": null,
            "_model_module_version": "1.2.0",
            "_view_count": null,
            "flex_flow": null,
            "width": null,
            "min_width": null,
            "border": null,
            "align_items": null,
            "bottom": null,
            "_model_module": "@jupyter-widgets/base",
            "top": null,
            "grid_column": null,
            "overflow_y": null,
            "overflow_x": null,
            "grid_auto_flow": null,
            "grid_area": null,
            "grid_template_columns": null,
            "flex": null,
            "_model_name": "LayoutModel",
            "justify_items": null,
            "grid_row": null,
            "max_height": null,
            "align_content": null,
            "visibility": null,
            "align_self": null,
            "height": null,
            "min_height": null,
            "padding": null,
            "grid_auto_rows": null,
            "grid_gap": null,
            "max_width": null,
            "order": null,
            "_view_module_version": "1.2.0",
            "grid_template_areas": null,
            "object_position": null,
            "object_fit": null,
            "grid_auto_columns": null,
            "margin": null,
            "display": null,
            "left": null
          }
        },
        "41842e2135014321918dff4446641c98": {
          "model_module": "@jupyter-widgets/controls",
          "model_name": "DescriptionStyleModel",
          "state": {
            "_view_name": "StyleView",
            "_model_name": "DescriptionStyleModel",
            "description_width": "",
            "_view_module": "@jupyter-widgets/base",
            "_model_module_version": "1.5.0",
            "_view_count": null,
            "_view_module_version": "1.2.0",
            "_model_module": "@jupyter-widgets/controls"
          }
        },
        "0e7dcd45c9864946b3ff2ce7460aca8d": {
          "model_module": "@jupyter-widgets/base",
          "model_name": "LayoutModel",
          "state": {
            "_view_name": "LayoutView",
            "grid_template_rows": null,
            "right": null,
            "justify_content": null,
            "_view_module": "@jupyter-widgets/base",
            "overflow": null,
            "_model_module_version": "1.2.0",
            "_view_count": null,
            "flex_flow": null,
            "width": null,
            "min_width": null,
            "border": null,
            "align_items": null,
            "bottom": null,
            "_model_module": "@jupyter-widgets/base",
            "top": null,
            "grid_column": null,
            "overflow_y": null,
            "overflow_x": null,
            "grid_auto_flow": null,
            "grid_area": null,
            "grid_template_columns": null,
            "flex": null,
            "_model_name": "LayoutModel",
            "justify_items": null,
            "grid_row": null,
            "max_height": null,
            "align_content": null,
            "visibility": null,
            "align_self": null,
            "height": null,
            "min_height": null,
            "padding": null,
            "grid_auto_rows": null,
            "grid_gap": null,
            "max_width": null,
            "order": null,
            "_view_module_version": "1.2.0",
            "grid_template_areas": null,
            "object_position": null,
            "object_fit": null,
            "grid_auto_columns": null,
            "margin": null,
            "display": null,
            "left": null
          }
        },
        "168d95b85f48404ead2ada277261b9c3": {
          "model_module": "@jupyter-widgets/controls",
          "model_name": "HBoxModel",
          "state": {
            "_view_name": "HBoxView",
            "_dom_classes": [],
            "_model_name": "HBoxModel",
            "_view_module": "@jupyter-widgets/controls",
            "_model_module_version": "1.5.0",
            "_view_count": null,
            "_view_module_version": "1.5.0",
            "box_style": "",
            "layout": "IPY_MODEL_e67ae8b9969247baac00273a4da86130",
            "_model_module": "@jupyter-widgets/controls",
            "children": [
              "IPY_MODEL_09d61ee8175b4f9ea6dc1accb0a7c26e",
              "IPY_MODEL_bf75ca89da754cb28ab8e4e6fc7c4297"
            ]
          }
        },
        "e67ae8b9969247baac00273a4da86130": {
          "model_module": "@jupyter-widgets/base",
          "model_name": "LayoutModel",
          "state": {
            "_view_name": "LayoutView",
            "grid_template_rows": null,
            "right": null,
            "justify_content": null,
            "_view_module": "@jupyter-widgets/base",
            "overflow": null,
            "_model_module_version": "1.2.0",
            "_view_count": null,
            "flex_flow": null,
            "width": null,
            "min_width": null,
            "border": null,
            "align_items": null,
            "bottom": null,
            "_model_module": "@jupyter-widgets/base",
            "top": null,
            "grid_column": null,
            "overflow_y": null,
            "overflow_x": null,
            "grid_auto_flow": null,
            "grid_area": null,
            "grid_template_columns": null,
            "flex": null,
            "_model_name": "LayoutModel",
            "justify_items": null,
            "grid_row": null,
            "max_height": null,
            "align_content": null,
            "visibility": null,
            "align_self": null,
            "height": null,
            "min_height": null,
            "padding": null,
            "grid_auto_rows": null,
            "grid_gap": null,
            "max_width": null,
            "order": null,
            "_view_module_version": "1.2.0",
            "grid_template_areas": null,
            "object_position": null,
            "object_fit": null,
            "grid_auto_columns": null,
            "margin": null,
            "display": null,
            "left": null
          }
        },
        "09d61ee8175b4f9ea6dc1accb0a7c26e": {
          "model_module": "@jupyter-widgets/controls",
          "model_name": "FloatProgressModel",
          "state": {
            "_view_name": "ProgressView",
            "style": "IPY_MODEL_de40ebd3de91487b8fcce1759f7fc822",
            "_dom_classes": [],
            "description": "",
            "_model_name": "FloatProgressModel",
            "bar_style": "success",
            "max": 4422102,
            "_view_module": "@jupyter-widgets/controls",
            "_model_module_version": "1.5.0",
            "value": 4422102,
            "_view_count": null,
            "_view_module_version": "1.5.0",
            "orientation": "horizontal",
            "min": 0,
            "description_tooltip": null,
            "_model_module": "@jupyter-widgets/controls",
            "layout": "IPY_MODEL_c504725be1ab4f94ba175e0ccfe04ccd"
          }
        },
        "bf75ca89da754cb28ab8e4e6fc7c4297": {
          "model_module": "@jupyter-widgets/controls",
          "model_name": "HTMLModel",
          "state": {
            "_view_name": "HTMLView",
            "style": "IPY_MODEL_7870bfe6c0f948628f1e6bdb5b0fbab2",
            "_dom_classes": [],
            "description": "",
            "_model_name": "HTMLModel",
            "placeholder": "​",
            "_view_module": "@jupyter-widgets/controls",
            "_model_module_version": "1.5.0",
            "value": " 4422656/? [00:04&lt;00:00, 964521.19it/s]",
            "_view_count": null,
            "_view_module_version": "1.5.0",
            "description_tooltip": null,
            "_model_module": "@jupyter-widgets/controls",
            "layout": "IPY_MODEL_1149fcc9f57c45d8aa18ee8ce06a583d"
          }
        },
        "de40ebd3de91487b8fcce1759f7fc822": {
          "model_module": "@jupyter-widgets/controls",
          "model_name": "ProgressStyleModel",
          "state": {
            "_view_name": "StyleView",
            "_model_name": "ProgressStyleModel",
            "description_width": "initial",
            "_view_module": "@jupyter-widgets/base",
            "_model_module_version": "1.5.0",
            "_view_count": null,
            "_view_module_version": "1.2.0",
            "bar_color": null,
            "_model_module": "@jupyter-widgets/controls"
          }
        },
        "c504725be1ab4f94ba175e0ccfe04ccd": {
          "model_module": "@jupyter-widgets/base",
          "model_name": "LayoutModel",
          "state": {
            "_view_name": "LayoutView",
            "grid_template_rows": null,
            "right": null,
            "justify_content": null,
            "_view_module": "@jupyter-widgets/base",
            "overflow": null,
            "_model_module_version": "1.2.0",
            "_view_count": null,
            "flex_flow": null,
            "width": null,
            "min_width": null,
            "border": null,
            "align_items": null,
            "bottom": null,
            "_model_module": "@jupyter-widgets/base",
            "top": null,
            "grid_column": null,
            "overflow_y": null,
            "overflow_x": null,
            "grid_auto_flow": null,
            "grid_area": null,
            "grid_template_columns": null,
            "flex": null,
            "_model_name": "LayoutModel",
            "justify_items": null,
            "grid_row": null,
            "max_height": null,
            "align_content": null,
            "visibility": null,
            "align_self": null,
            "height": null,
            "min_height": null,
            "padding": null,
            "grid_auto_rows": null,
            "grid_gap": null,
            "max_width": null,
            "order": null,
            "_view_module_version": "1.2.0",
            "grid_template_areas": null,
            "object_position": null,
            "object_fit": null,
            "grid_auto_columns": null,
            "margin": null,
            "display": null,
            "left": null
          }
        },
        "7870bfe6c0f948628f1e6bdb5b0fbab2": {
          "model_module": "@jupyter-widgets/controls",
          "model_name": "DescriptionStyleModel",
          "state": {
            "_view_name": "StyleView",
            "_model_name": "DescriptionStyleModel",
            "description_width": "",
            "_view_module": "@jupyter-widgets/base",
            "_model_module_version": "1.5.0",
            "_view_count": null,
            "_view_module_version": "1.2.0",
            "_model_module": "@jupyter-widgets/controls"
          }
        },
        "1149fcc9f57c45d8aa18ee8ce06a583d": {
          "model_module": "@jupyter-widgets/base",
          "model_name": "LayoutModel",
          "state": {
            "_view_name": "LayoutView",
            "grid_template_rows": null,
            "right": null,
            "justify_content": null,
            "_view_module": "@jupyter-widgets/base",
            "overflow": null,
            "_model_module_version": "1.2.0",
            "_view_count": null,
            "flex_flow": null,
            "width": null,
            "min_width": null,
            "border": null,
            "align_items": null,
            "bottom": null,
            "_model_module": "@jupyter-widgets/base",
            "top": null,
            "grid_column": null,
            "overflow_y": null,
            "overflow_x": null,
            "grid_auto_flow": null,
            "grid_area": null,
            "grid_template_columns": null,
            "flex": null,
            "_model_name": "LayoutModel",
            "justify_items": null,
            "grid_row": null,
            "max_height": null,
            "align_content": null,
            "visibility": null,
            "align_self": null,
            "height": null,
            "min_height": null,
            "padding": null,
            "grid_auto_rows": null,
            "grid_gap": null,
            "max_width": null,
            "order": null,
            "_view_module_version": "1.2.0",
            "grid_template_areas": null,
            "object_position": null,
            "object_fit": null,
            "grid_auto_columns": null,
            "margin": null,
            "display": null,
            "left": null
          }
        },
        "c5d9fe990421488bb93dd90c50ae5437": {
          "model_module": "@jupyter-widgets/controls",
          "model_name": "HBoxModel",
          "state": {
            "_view_name": "HBoxView",
            "_dom_classes": [],
            "_model_name": "HBoxModel",
            "_view_module": "@jupyter-widgets/controls",
            "_model_module_version": "1.5.0",
            "_view_count": null,
            "_view_module_version": "1.5.0",
            "box_style": "",
            "layout": "IPY_MODEL_27ef28420cf2437b992123dd19bbcdb4",
            "_model_module": "@jupyter-widgets/controls",
            "children": [
              "IPY_MODEL_746e0af122504b15ba30931a6a86e34f",
              "IPY_MODEL_e0fb7b888d0d4519a0f6ccb45cad3fc6"
            ]
          }
        },
        "27ef28420cf2437b992123dd19bbcdb4": {
          "model_module": "@jupyter-widgets/base",
          "model_name": "LayoutModel",
          "state": {
            "_view_name": "LayoutView",
            "grid_template_rows": null,
            "right": null,
            "justify_content": null,
            "_view_module": "@jupyter-widgets/base",
            "overflow": null,
            "_model_module_version": "1.2.0",
            "_view_count": null,
            "flex_flow": null,
            "width": null,
            "min_width": null,
            "border": null,
            "align_items": null,
            "bottom": null,
            "_model_module": "@jupyter-widgets/base",
            "top": null,
            "grid_column": null,
            "overflow_y": null,
            "overflow_x": null,
            "grid_auto_flow": null,
            "grid_area": null,
            "grid_template_columns": null,
            "flex": null,
            "_model_name": "LayoutModel",
            "justify_items": null,
            "grid_row": null,
            "max_height": null,
            "align_content": null,
            "visibility": null,
            "align_self": null,
            "height": null,
            "min_height": null,
            "padding": null,
            "grid_auto_rows": null,
            "grid_gap": null,
            "max_width": null,
            "order": null,
            "_view_module_version": "1.2.0",
            "grid_template_areas": null,
            "object_position": null,
            "object_fit": null,
            "grid_auto_columns": null,
            "margin": null,
            "display": null,
            "left": null
          }
        },
        "746e0af122504b15ba30931a6a86e34f": {
          "model_module": "@jupyter-widgets/controls",
          "model_name": "FloatProgressModel",
          "state": {
            "_view_name": "ProgressView",
            "style": "IPY_MODEL_b7d40d8a1f624aacae0717e2b1faf697",
            "_dom_classes": [],
            "description": "",
            "_model_name": "FloatProgressModel",
            "bar_style": "success",
            "max": 5148,
            "_view_module": "@jupyter-widgets/controls",
            "_model_module_version": "1.5.0",
            "value": 5148,
            "_view_count": null,
            "_view_module_version": "1.5.0",
            "orientation": "horizontal",
            "min": 0,
            "description_tooltip": null,
            "_model_module": "@jupyter-widgets/controls",
            "layout": "IPY_MODEL_80e8cd6abe444226959f3ad9807cf1f2"
          }
        },
        "e0fb7b888d0d4519a0f6ccb45cad3fc6": {
          "model_module": "@jupyter-widgets/controls",
          "model_name": "HTMLModel",
          "state": {
            "_view_name": "HTMLView",
            "style": "IPY_MODEL_f128ba9be1824d91a95f8c1c67f143bd",
            "_dom_classes": [],
            "description": "",
            "_model_name": "HTMLModel",
            "placeholder": "​",
            "_view_module": "@jupyter-widgets/controls",
            "_model_module_version": "1.5.0",
            "value": " 6144/? [00:03&lt;00:00, 1833.69it/s]",
            "_view_count": null,
            "_view_module_version": "1.5.0",
            "description_tooltip": null,
            "_model_module": "@jupyter-widgets/controls",
            "layout": "IPY_MODEL_05bfc4b85d5041ec84545115f5e37c65"
          }
        },
        "b7d40d8a1f624aacae0717e2b1faf697": {
          "model_module": "@jupyter-widgets/controls",
          "model_name": "ProgressStyleModel",
          "state": {
            "_view_name": "StyleView",
            "_model_name": "ProgressStyleModel",
            "description_width": "initial",
            "_view_module": "@jupyter-widgets/base",
            "_model_module_version": "1.5.0",
            "_view_count": null,
            "_view_module_version": "1.2.0",
            "bar_color": null,
            "_model_module": "@jupyter-widgets/controls"
          }
        },
        "80e8cd6abe444226959f3ad9807cf1f2": {
          "model_module": "@jupyter-widgets/base",
          "model_name": "LayoutModel",
          "state": {
            "_view_name": "LayoutView",
            "grid_template_rows": null,
            "right": null,
            "justify_content": null,
            "_view_module": "@jupyter-widgets/base",
            "overflow": null,
            "_model_module_version": "1.2.0",
            "_view_count": null,
            "flex_flow": null,
            "width": null,
            "min_width": null,
            "border": null,
            "align_items": null,
            "bottom": null,
            "_model_module": "@jupyter-widgets/base",
            "top": null,
            "grid_column": null,
            "overflow_y": null,
            "overflow_x": null,
            "grid_auto_flow": null,
            "grid_area": null,
            "grid_template_columns": null,
            "flex": null,
            "_model_name": "LayoutModel",
            "justify_items": null,
            "grid_row": null,
            "max_height": null,
            "align_content": null,
            "visibility": null,
            "align_self": null,
            "height": null,
            "min_height": null,
            "padding": null,
            "grid_auto_rows": null,
            "grid_gap": null,
            "max_width": null,
            "order": null,
            "_view_module_version": "1.2.0",
            "grid_template_areas": null,
            "object_position": null,
            "object_fit": null,
            "grid_auto_columns": null,
            "margin": null,
            "display": null,
            "left": null
          }
        },
        "f128ba9be1824d91a95f8c1c67f143bd": {
          "model_module": "@jupyter-widgets/controls",
          "model_name": "DescriptionStyleModel",
          "state": {
            "_view_name": "StyleView",
            "_model_name": "DescriptionStyleModel",
            "description_width": "",
            "_view_module": "@jupyter-widgets/base",
            "_model_module_version": "1.5.0",
            "_view_count": null,
            "_view_module_version": "1.2.0",
            "_model_module": "@jupyter-widgets/controls"
          }
        },
        "05bfc4b85d5041ec84545115f5e37c65": {
          "model_module": "@jupyter-widgets/base",
          "model_name": "LayoutModel",
          "state": {
            "_view_name": "LayoutView",
            "grid_template_rows": null,
            "right": null,
            "justify_content": null,
            "_view_module": "@jupyter-widgets/base",
            "overflow": null,
            "_model_module_version": "1.2.0",
            "_view_count": null,
            "flex_flow": null,
            "width": null,
            "min_width": null,
            "border": null,
            "align_items": null,
            "bottom": null,
            "_model_module": "@jupyter-widgets/base",
            "top": null,
            "grid_column": null,
            "overflow_y": null,
            "overflow_x": null,
            "grid_auto_flow": null,
            "grid_area": null,
            "grid_template_columns": null,
            "flex": null,
            "_model_name": "LayoutModel",
            "justify_items": null,
            "grid_row": null,
            "max_height": null,
            "align_content": null,
            "visibility": null,
            "align_self": null,
            "height": null,
            "min_height": null,
            "padding": null,
            "grid_auto_rows": null,
            "grid_gap": null,
            "max_width": null,
            "order": null,
            "_view_module_version": "1.2.0",
            "grid_template_areas": null,
            "object_position": null,
            "object_fit": null,
            "grid_auto_columns": null,
            "margin": null,
            "display": null,
            "left": null
          }
        }
      }
    }
  },
  "cells": [
    {
      "cell_type": "code",
      "metadata": {
        "id": "pgZqz3tso6kP"
      },
      "source": [
        "#importing required library\n",
        "import matplotlib.pyplot as plt\n",
        "import numpy as np\n",
        "import torch\n",
        "import torchvision\n",
        "import torchvision.transforms as transforms\n",
        "import torch.nn as nn\n",
        "import torch.nn.functional as F\n",
        "import torch.optim as optim"
      ],
      "execution_count": null,
      "outputs": []
    },
    {
      "cell_type": "code",
      "metadata": {
        "id": "bAfc6ZzxpVCN",
        "colab": {
          "base_uri": "https://localhost:8080/",
          "height": 539,
          "referenced_widgets": [
            "f7688dff47db4710870b96e6b3010f4d",
            "8cf27506406d4b5da642b54a959cc1db",
            "6c75d46c55f740f388e79527758c38e4",
            "0581d7da17c3466b95f92f0344af4ec1",
            "898cd25ccd664bbebb345f51db65da00",
            "c4440cf3c9834c159a97d17d64fcbc93",
            "5f347c2299a74fce87f4c4a877d65c5e",
            "c96f8504482b49768ef620322d07cbb2",
            "08a590036d3a4925b2834fdf0557fd93",
            "51fb1c8c09ee4e969faa93204d65e2cb",
            "ec6764933fbb4c2ba4722c8c8db0f331",
            "85cfed3a9ff84e009307701ddde801ab",
            "2ac6e7e479b54ce0bdcc4f2cf3e2b359",
            "0bd5b653ef0341aba75a1f7cf363ea05",
            "41842e2135014321918dff4446641c98",
            "0e7dcd45c9864946b3ff2ce7460aca8d",
            "168d95b85f48404ead2ada277261b9c3",
            "e67ae8b9969247baac00273a4da86130",
            "09d61ee8175b4f9ea6dc1accb0a7c26e",
            "bf75ca89da754cb28ab8e4e6fc7c4297",
            "de40ebd3de91487b8fcce1759f7fc822",
            "c504725be1ab4f94ba175e0ccfe04ccd",
            "7870bfe6c0f948628f1e6bdb5b0fbab2",
            "1149fcc9f57c45d8aa18ee8ce06a583d",
            "c5d9fe990421488bb93dd90c50ae5437",
            "27ef28420cf2437b992123dd19bbcdb4",
            "746e0af122504b15ba30931a6a86e34f",
            "e0fb7b888d0d4519a0f6ccb45cad3fc6",
            "b7d40d8a1f624aacae0717e2b1faf697",
            "80e8cd6abe444226959f3ad9807cf1f2",
            "f128ba9be1824d91a95f8c1c67f143bd",
            "05bfc4b85d5041ec84545115f5e37c65"
          ]
        },
        "outputId": "8cf8787d-b553-41c9-e923-3aa7b5c994c6"
      },
      "source": [
        "#Loading our dataset\n",
        "#image transform and normalize\n",
        "\n",
        "transform = transforms.Compose([transforms.ToTensor(), transforms.Normalize((0.5,), (0.5,))])\n",
        "\n",
        "trainset = torchvision.datasets.FashionMNIST('data', download = True, train = True, transform = transform)\n",
        "testset = torchvision.datasets.FashionMNIST('data', download = True, train = False, transform = transform)"
      ],
      "execution_count": null,
      "outputs": [
        {
          "output_type": "stream",
          "text": [
            "Downloading http://fashion-mnist.s3-website.eu-central-1.amazonaws.com/train-images-idx3-ubyte.gz\n",
            "Downloading http://fashion-mnist.s3-website.eu-central-1.amazonaws.com/train-images-idx3-ubyte.gz to data/FashionMNIST/raw/train-images-idx3-ubyte.gz\n"
          ],
          "name": "stdout"
        },
        {
          "output_type": "display_data",
          "data": {
            "application/vnd.jupyter.widget-view+json": {
              "model_id": "f7688dff47db4710870b96e6b3010f4d",
              "version_minor": 0,
              "version_major": 2
            },
            "text/plain": [
              "HBox(children=(FloatProgress(value=0.0, max=26421880.0), HTML(value='')))"
            ]
          },
          "metadata": {
            "tags": []
          }
        },
        {
          "output_type": "stream",
          "text": [
            "\n",
            "Extracting data/FashionMNIST/raw/train-images-idx3-ubyte.gz to data/FashionMNIST/raw\n",
            "\n",
            "Downloading http://fashion-mnist.s3-website.eu-central-1.amazonaws.com/train-labels-idx1-ubyte.gz\n",
            "Downloading http://fashion-mnist.s3-website.eu-central-1.amazonaws.com/train-labels-idx1-ubyte.gz to data/FashionMNIST/raw/train-labels-idx1-ubyte.gz\n"
          ],
          "name": "stdout"
        },
        {
          "output_type": "display_data",
          "data": {
            "application/vnd.jupyter.widget-view+json": {
              "model_id": "08a590036d3a4925b2834fdf0557fd93",
              "version_minor": 0,
              "version_major": 2
            },
            "text/plain": [
              "HBox(children=(FloatProgress(value=0.0, max=29515.0), HTML(value='')))"
            ]
          },
          "metadata": {
            "tags": []
          }
        },
        {
          "output_type": "stream",
          "text": [
            "\n",
            "Extracting data/FashionMNIST/raw/train-labels-idx1-ubyte.gz to data/FashionMNIST/raw\n",
            "\n",
            "Downloading http://fashion-mnist.s3-website.eu-central-1.amazonaws.com/t10k-images-idx3-ubyte.gz\n",
            "Downloading http://fashion-mnist.s3-website.eu-central-1.amazonaws.com/t10k-images-idx3-ubyte.gz to data/FashionMNIST/raw/t10k-images-idx3-ubyte.gz\n"
          ],
          "name": "stdout"
        },
        {
          "output_type": "display_data",
          "data": {
            "application/vnd.jupyter.widget-view+json": {
              "model_id": "168d95b85f48404ead2ada277261b9c3",
              "version_minor": 0,
              "version_major": 2
            },
            "text/plain": [
              "HBox(children=(FloatProgress(value=0.0, max=4422102.0), HTML(value='')))"
            ]
          },
          "metadata": {
            "tags": []
          }
        },
        {
          "output_type": "stream",
          "text": [
            "\n",
            "Extracting data/FashionMNIST/raw/t10k-images-idx3-ubyte.gz to data/FashionMNIST/raw\n",
            "\n",
            "Downloading http://fashion-mnist.s3-website.eu-central-1.amazonaws.com/t10k-labels-idx1-ubyte.gz\n",
            "Downloading http://fashion-mnist.s3-website.eu-central-1.amazonaws.com/t10k-labels-idx1-ubyte.gz to data/FashionMNIST/raw/t10k-labels-idx1-ubyte.gz\n"
          ],
          "name": "stdout"
        },
        {
          "output_type": "display_data",
          "data": {
            "application/vnd.jupyter.widget-view+json": {
              "model_id": "c5d9fe990421488bb93dd90c50ae5437",
              "version_minor": 0,
              "version_major": 2
            },
            "text/plain": [
              "HBox(children=(FloatProgress(value=0.0, max=5148.0), HTML(value='')))"
            ]
          },
          "metadata": {
            "tags": []
          }
        },
        {
          "output_type": "stream",
          "text": [
            "\n",
            "Extracting data/FashionMNIST/raw/t10k-labels-idx1-ubyte.gz to data/FashionMNIST/raw\n",
            "\n"
          ],
          "name": "stdout"
        },
        {
          "output_type": "stream",
          "text": [
            "/usr/local/lib/python3.7/dist-packages/torchvision/datasets/mnist.py:498: UserWarning: The given NumPy array is not writeable, and PyTorch does not support non-writeable tensors. This means you can write to the underlying (supposedly non-writeable) NumPy array using the tensor. You may want to copy the array to protect its data or make it writeable before converting it to a tensor. This type of warning will be suppressed for the rest of this program. (Triggered internally at  /pytorch/torch/csrc/utils/tensor_numpy.cpp:180.)\n",
            "  return torch.from_numpy(parsed.astype(m[2], copy=False)).view(*s)\n"
          ],
          "name": "stderr"
        }
      ]
    },
    {
      "cell_type": "code",
      "metadata": {
        "colab": {
          "base_uri": "https://localhost:8080/"
        },
        "id": "4Ydu5B8Zqtgs",
        "outputId": "09f0969d-087d-4ac5-9ce1-4dd08d87a8c1"
      },
      "source": [
        "#creating our data for both traininng and testing.\n",
        "\n",
        "trainloader = torch.utils.data.DataLoader(trainset, batch_size = 64, shuffle = True, num_workers= 10)\n",
        "testloader = torch.utils.data.DataLoader(testset, batch_size = 64, shuffle = False, num_workers= 2)"
      ],
      "execution_count": null,
      "outputs": [
        {
          "output_type": "stream",
          "text": [
            "/usr/local/lib/python3.7/dist-packages/torch/utils/data/dataloader.py:481: UserWarning: This DataLoader will create 10 worker processes in total. Our suggested max number of worker in current system is 2, which is smaller than what this DataLoader is going to create. Please be aware that excessive worker creation might get DataLoader running slow or even freeze, lower the worker number to avoid potential slowness/freeze if necessary.\n",
            "  cpuset_checked))\n"
          ],
          "name": "stderr"
        }
      ]
    },
    {
      "cell_type": "code",
      "metadata": {
        "id": "LX27pmOcsC3b"
      },
      "source": [
        "#constant for classes - in this case we have 10 different articles of clothing we are trying to classify.\n",
        "\n",
        "classes = ('T-shirt/top', 'Trouser' , 'Pullover', 'Dress', 'Coat', 'Sandal', 'Shirt', 'Sneaker', 'Bag', 'Ankle Boot')"
      ],
      "execution_count": null,
      "outputs": []
    },
    {
      "cell_type": "code",
      "metadata": {
        "id": "NUnXF0Myuc6j"
      },
      "source": [
        "def matplotlib_imshow(img, one_channel = False):\n",
        "    if one_channel:\n",
        "        img = img.mean(dim = 0)\n",
        "    img = img / 2 + 0.5 #unnormalize\n",
        "    npimg = img.numpy()\n",
        "\n",
        "    if one_channel:\n",
        "        plt.imshow(npimg, cmap = \"Greys\")\n",
        "    else:\n",
        "        plt.imshow(np.transpose(npimg, (1,2,0)))"
      ],
      "execution_count": null,
      "outputs": []
    },
    {
      "cell_type": "code",
      "metadata": {
        "colab": {
          "base_uri": "https://localhost:8080/",
          "height": 323
        },
        "id": "-p4S4He2u-YQ",
        "outputId": "484783e1-cb30-44e8-9f23-0982eda09d59"
      },
      "source": [
        "dataiter = iter(trainloader)\n",
        "images , lables = dataiter.next()\n",
        "matplotlib_imshow(torchvision.utils.make_grid(images))"
      ],
      "execution_count": null,
      "outputs": [
        {
          "output_type": "stream",
          "text": [
            "/usr/local/lib/python3.7/dist-packages/torch/utils/data/dataloader.py:481: UserWarning: This DataLoader will create 10 worker processes in total. Our suggested max number of worker in current system is 2, which is smaller than what this DataLoader is going to create. Please be aware that excessive worker creation might get DataLoader running slow or even freeze, lower the worker number to avoid potential slowness/freeze if necessary.\n",
            "  cpuset_checked))\n"
          ],
          "name": "stderr"
        },
        {
          "output_type": "display_data",
          "data": {
            "image/png": "[encoded data removed]",
            "text/plain": [
              "<Figure size 432x288 with 1 Axes>"
            ]
          },
          "metadata": {
            "tags": [],
            "needs_background": "light"
          }
        }
      ]
    },
    {
      "cell_type": "code",
      "metadata": {
        "id": "WVQKP6M3vbnT"
      },
      "source": [
        "#define our network architectur\n",
        "#In this case we are using fairly basic multilayer perceptron so that it can train fast.\n",
        "\n",
        "class Classifier(nn.Module):\n",
        "    def __init__(self):\n",
        "        super().__init__()\n",
        "        self.fc1 = nn.Linear(784 , 256)\n",
        "        self.fc2 = nn.Linear(256, 128)\n",
        "        self.fc3 = nn.Linear(128 , 64)\n",
        "        self.fc4 = nn.Linear(64, 10)\n",
        "    \n",
        "    def forward(self, x):\n",
        "        \n",
        "        #make sure input tensor is flattened.\n",
        "        x = x.view(x.shape[0], -1)\n",
        "\n",
        "        x = F.relu(self.fc1(x))\n",
        "        x = F.relu(self.fc2(x))\n",
        "        x = F.relu(self.fc3(x))\n",
        "        x = F.log_softmax(self.fc4(x), dim = 1)\n",
        "        return x\n"
      ],
      "execution_count": null,
      "outputs": []
    },
    {
      "cell_type": "code",
      "metadata": {
        "id": "mlcJF4lGy2UE"
      },
      "source": [
        "torch.manual_seed(2)\n",
        "model = Classifier()\n",
        "criterion = nn.NLLLoss()\n",
        "optimizer = optim.SGD(model.parameters(), lr = 0.01)"
      ],
      "execution_count": null,
      "outputs": []
    },
    {
      "cell_type": "code",
      "metadata": {
        "colab": {
          "base_uri": "https://localhost:8080/"
        },
        "id": "h_yWKxJ386p_",
        "outputId": "691491ff-4cc3-4e97-f72e-78874a9dc938"
      },
      "source": [
        "print(model.fc1.weight)"
      ],
      "execution_count": null,
      "outputs": [
        {
          "output_type": "stream",
          "text": [
            "Parameter containing:\n",
            "tensor([[ 0.0082, -0.0085,  0.0098,  ...,  0.0151,  0.0240,  0.0059],\n",
            "        [ 0.0100,  0.0067,  0.0324,  ...,  0.0230,  0.0008,  0.0305],\n",
            "        [-0.0026,  0.0180,  0.0146,  ...,  0.0066,  0.0298,  0.0159],\n",
            "        ...,\n",
            "        [ 0.0140,  0.0333,  0.0251,  ..., -0.0235,  0.0162, -0.0331],\n",
            "        [-0.0146,  0.0304,  0.0128,  ...,  0.0075, -0.0304, -0.0246],\n",
            "        [-0.0333,  0.0032, -0.0196,  ...,  0.0273,  0.0064, -0.0304]],\n",
            "       requires_grad=True)\n"
          ],
          "name": "stdout"
        }
      ]
    },
    {
      "cell_type": "code",
      "metadata": {
        "colab": {
          "base_uri": "https://localhost:8080/"
        },
        "id": "SYs7XTOUzcsG",
        "outputId": "86bf96f3-b1be-417d-869c-bbd7c4da9c5b"
      },
      "source": [
        "#try out gradient computation\n",
        "\n",
        "images, labels = iter(trainloader).next()\n",
        "log_ps = model(images)\n",
        "loss = criterion(log_ps, labels)\n",
        "loss.backward()"
      ],
      "execution_count": null,
      "outputs": [
        {
          "output_type": "stream",
          "text": [
            "/usr/local/lib/python3.7/dist-packages/torch/utils/data/dataloader.py:481: UserWarning: This DataLoader will create 10 worker processes in total. Our suggested max number of worker in current system is 2, which is smaller than what this DataLoader is going to create. Please be aware that excessive worker creation might get DataLoader running slow or even freeze, lower the worker number to avoid potential slowness/freeze if necessary.\n",
            "  cpuset_checked))\n"
          ],
          "name": "stderr"
        }
      ]
    },
    {
      "cell_type": "code",
      "metadata": {
        "colab": {
          "base_uri": "https://localhost:8080/"
        },
        "id": "p5D2ac-U2EQ_",
        "outputId": "a6ce4b10-c7a5-40e4-d733-7f7350a8974a"
      },
      "source": [
        "print(model.fc2.weight.grad)"
      ],
      "execution_count": null,
      "outputs": [
        {
          "output_type": "stream",
          "text": [
            "tensor([[ 2.3204e-04, -3.4745e-03,  5.1503e-04,  ..., -3.9330e-04,\n",
            "         -7.4528e-05, -4.4559e-04],\n",
            "        [-4.6942e-04, -2.2129e-03, -3.4835e-04,  ..., -2.1949e-03,\n",
            "         -2.0890e-03, -6.4407e-04],\n",
            "        [ 1.7293e-04,  5.6443e-04, -1.6870e-04,  ..., -2.3798e-04,\n",
            "         -2.4238e-04,  0.0000e+00],\n",
            "        ...,\n",
            "        [-7.9477e-04, -4.0606e-03,  1.2503e-04,  ..., -6.1213e-04,\n",
            "         -1.0373e-03,  6.6699e-05],\n",
            "        [ 0.0000e+00,  0.0000e+00,  0.0000e+00,  ...,  0.0000e+00,\n",
            "          0.0000e+00,  0.0000e+00],\n",
            "        [ 4.2305e-04,  4.5899e-05,  5.9412e-04,  ...,  1.5522e-03,\n",
            "          1.2365e-03,  1.6403e-04]])\n"
          ],
          "name": "stdout"
        }
      ]
    },
    {
      "cell_type": "code",
      "metadata": {
        "colab": {
          "base_uri": "https://localhost:8080/"
        },
        "id": "xqjUS_Wl9RIu",
        "outputId": "417be4ea-fba7-4c34-fd50-1402c2e18724"
      },
      "source": [
        "#the training loop\n",
        "\n",
        "epochs = 5\n",
        "for e in range(epochs):\n",
        "    #training\n",
        "    running_loss = 0\n",
        "    model.train()\n",
        "    for images , labels in trainloader:\n",
        "        log_ps = model(images)\n",
        "        loss = criterion(log_ps, labels)\n",
        "\n",
        "        #zeroing out our gradient\n",
        "        optimizer.zero_grad()\n",
        "\n",
        "        #training a backwardpass\n",
        "        loss.backward()\n",
        "\n",
        "        #taking a step\n",
        "        optimizer.step()\n",
        "\n",
        "        #calculating our loss\n",
        "        running_loss += loss.item()\n",
        "\n",
        "    else:\n",
        "        print(f\"Training loss: {running_loss/1000}\", end  = \" \")\n",
        "\n",
        "    #evaluation \n",
        "    model.eval()\n",
        "\n",
        "    with torch.no_grad():\n",
        "        total = 0 \n",
        "        correct = 0\n",
        "\n",
        "        for images, labels in testloader:\n",
        "            log_ps = model(images)\n",
        "\n",
        "            #finding the maximum class\n",
        "            mx_index = torch.argmax(log_ps, dim = 1)\n",
        "            total += labels.numel()\n",
        "            correct += sum(mx_index == labels).item()\n",
        "        print(f\"Test Accuracy: {correct/total * 100:0.2f}\")"
      ],
      "execution_count": null,
      "outputs": [
        {
          "output_type": "stream",
          "text": [
            "/usr/local/lib/python3.7/dist-packages/torch/utils/data/dataloader.py:481: UserWarning: This DataLoader will create 10 worker processes in total. Our suggested max number of worker in current system is 2, which is smaller than what this DataLoader is going to create. Please be aware that excessive worker creation might get DataLoader running slow or even freeze, lower the worker number to avoid potential slowness/freeze if necessary.\n",
            "  cpuset_checked))\n"
          ],
          "name": "stderr"
        },
        {
          "output_type": "stream",
          "text": [
            "Training loss: 1.186297006368637 Test Accuracy: 74.65\n",
            "Training loss: 0.5632810154259205 Test Accuracy: 77.69\n",
            "Training loss: 0.48648022900521753 Test Accuracy: 81.09\n",
            "Training loss: 0.44726090244948863 Test Accuracy: 81.76\n",
            "Training loss: 0.4202817100584507 Test Accuracy: 82.51\n"
          ],
          "name": "stdout"
        }
      ]
    },
    {
      "cell_type": "code",
      "metadata": {
        "id": "19S0cmENdtBb"
      },
      "source": [
        "#let's test the network on our test set data.\n",
        "#we have created a handy function that plots our inference reults.\n",
        "\n",
        "def view_classify(img, ps, version = \"Fashion\"):\n",
        "\n",
        "    #function for viewing an image and its predicted classes.\n",
        "\n",
        "    ps = ps.data.numpy().squeeze()\n",
        "    fig, (ax1, ax2) = plt.subplots(figsize = (6, 9), ncols = 2)\n",
        "    ax1.imshow(img.resize_(1,28,28).numpy().squeeze())\n",
        "    ax1.axis('off')\n",
        "    ax2.barh(np.arange(10), ps)\n",
        "    ax2.set_aspect(0.1)\n",
        "    ax2.set_yticks(np.arange(10))\n",
        "    ax2.set_yticklabels(['T-shirt/top', 'Trouser' , 'Pullover', 'Dress', 'Coat', 'Sandal', 'Shirt', 'Sneaker', 'Bag', 'Ankle Boot'] , size = 'small')\n",
        "    ax2.set_title('class probability')\n",
        "    ax2.set_xlim(0, 1.1)"
      ],
      "execution_count": null,
      "outputs": []
    },
    {
      "cell_type": "code",
      "metadata": {
        "colab": {
          "base_uri": "https://localhost:8080/",
          "height": 1000
        },
        "id": "SS94rC0Gj4ZC",
        "outputId": "9fe6fe2c-1d01-4a62-a046-98bcb235759b"
      },
      "source": [
        "#lets do a prediction \n",
        "#the code below converts the logits, or row outputs from the model into actual probabilites that can be more easily classified.\n",
        "\n",
        "td = iter(testloader)\n",
        "for _ in range(5):\n",
        "    images, labels = next(td)\n",
        "\n",
        "    img = images[2].view(1, 784)\n",
        "    with torch.no_grad():\n",
        "        logps = model(img)\n",
        "        \n",
        "    ps = torch.exp(logps)\n",
        "    probab = list(ps.numpy()[0])\n",
        "    print(\"predicted class =  \", probab.index(max(probab)))\n",
        "    view_classify(img.view(1, 28, 28), ps)"
      ],
      "execution_count": null,
      "outputs": [
        {
          "output_type": "stream",
          "text": [
            "predicted class =   1\n",
            "predicted class =   3\n",
            "predicted class =   4\n",
            "predicted class =   3\n",
            "predicted class =   2\n"
          ],
          "name": "stdout"
        },
        {
          "output_type": "display_data",
          "data": {
            "image/png": "[encoded data removed]",
            "text/plain": [
              "<Figure size 432x648 with 2 Axes>"
            ]
          },
          "metadata": {
            "tags": [],
            "needs_background": "light"
          }
        },
        {
          "output_type": "display_data",
          "data": {
            "image/png": "[encoded data removed]",
            "text/plain": [
              "<Figure size 432x648 with 2 Axes>"
            ]
          },
          "metadata": {
            "tags": [],
            "needs_background": "light"
          }
        },
        {
          "output_type": "display_data",
          "data": {
            "image/png": "[encoded data removed]",
            "text/plain": [
              "<Figure size 432x648 with 2 Axes>"
            ]
          },
          "metadata": {
            "tags": [],
            "needs_background": "light"
          }
        },
        {
          "output_type": "display_data",
          "data": {
            "image/png": "[encoded data removed]",
            "text/plain": [
              "<Figure size 432x648 with 2 Axes>"
            ]
          },
          "metadata": {
            "tags": [],
            "needs_background": "light"
          }
        },
        {
          "output_type": "display_data",
          "data": {
            "image/png": "[encoded data removed]",
            "text/plain": [
              "<Figure size 432x648 with 2 Axes>"
            ]
          },
          "metadata": {
            "tags": [],
            "needs_background": "light"
          }
        }
      ]
    },
    {
      "cell_type": "code",
      "metadata": {
        "colab": {
          "base_uri": "https://localhost:8080/"
        },
        "id": "nTya6qr3k9cS",
        "outputId": "eda9e747-1d5c-494a-ef58-6e3700bbdfe0"
      },
      "source": [
        "#parameters our model learnt\n",
        "model.state_dict()"
      ],
      "execution_count": null,
      "outputs": [
        {
          "output_type": "execute_result",
          "data": {
            "text/plain": [
              "OrderedDict([('fc1.weight',\n",
              "              tensor([[ 0.0104, -0.0063,  0.0120,  ...,  0.0173,  0.0263,  0.0081],\n",
              "                      [ 0.0089,  0.0056,  0.0313,  ...,  0.0212, -0.0006,  0.0293],\n",
              "                      [-0.0098,  0.0109,  0.0074,  ...,  0.0008,  0.0230,  0.0088],\n",
              "                      ...,\n",
              "                      [ 0.0145,  0.0338,  0.0256,  ..., -0.0204,  0.0175, -0.0324],\n",
              "                      [-0.0135,  0.0315,  0.0138,  ...,  0.0059, -0.0300, -0.0237],\n",
              "                      [-0.0350,  0.0015, -0.0213,  ...,  0.0275,  0.0052, -0.0320]])),\n",
              "             ('fc1.bias',\n",
              "              tensor([-2.0490e-02, -2.4931e-02,  1.2782e-03, -2.3555e-02, -3.3365e-02,\n",
              "                       1.6884e-02,  8.6564e-03,  1.8270e-02,  2.0598e-02, -1.8518e-02,\n",
              "                       1.2490e-02,  1.3089e-02,  7.1879e-03, -1.8581e-02,  3.4232e-02,\n",
              "                       3.5025e-02,  1.5157e-02,  1.5441e-02, -1.1181e-03,  2.6188e-02,\n",
              "                      -9.9770e-03, -4.1159e-03, -6.6081e-03,  3.2094e-02, -2.5596e-02,\n",
              "                       3.1421e-02, -2.8170e-02,  3.3276e-02,  3.1621e-02,  1.7708e-02,\n",
              "                       8.3007e-03, -2.8439e-02, -2.4203e-02,  1.5799e-02,  8.6068e-03,\n",
              "                      -2.5504e-02,  1.9326e-03, -3.0437e-02,  2.0385e-02, -3.3760e-02,\n",
              "                      -1.3913e-02,  2.6537e-03,  1.6808e-02,  3.2330e-04,  5.5876e-03,\n",
              "                       7.1785e-03,  2.5317e-02,  2.9334e-02, -8.6179e-03, -6.0932e-04,\n",
              "                      -2.2324e-02,  1.2925e-02,  1.9219e-02, -2.0461e-02, -4.4221e-03,\n",
              "                       3.9257e-02, -8.4422e-03, -3.0531e-02, -3.7456e-03, -3.0017e-02,\n",
              "                      -3.5268e-02, -1.2239e-02, -8.7516e-03, -4.6053e-05,  1.3267e-02,\n",
              "                       1.6375e-02,  1.1047e-02,  2.7889e-02,  4.8563e-03,  3.7513e-02,\n",
              "                       2.1757e-02,  3.3244e-02, -2.1231e-02, -3.2451e-02,  3.3898e-02,\n",
              "                       3.2413e-02, -6.7403e-03, -1.4513e-02, -2.4062e-02,  2.8941e-02,\n",
              "                      -1.3356e-02, -3.6045e-02, -4.1748e-03,  2.3795e-02, -2.4423e-02,\n",
              "                      -1.9272e-02,  3.5928e-02,  3.9805e-02, -3.6387e-04, -2.2623e-02,\n",
              "                      -3.3826e-02, -2.4825e-02, -4.3336e-03,  2.1511e-02,  1.2526e-02,\n",
              "                       2.9784e-02,  7.4862e-03, -1.2268e-02,  2.4613e-02,  2.0439e-02,\n",
              "                      -5.1226e-03,  9.6595e-03, -8.8724e-03, -2.4369e-02,  9.5119e-03,\n",
              "                       1.4122e-03,  4.7621e-02,  2.9873e-02, -9.1942e-03, -1.7212e-02,\n",
              "                      -1.8255e-02,  2.0086e-02,  8.1349e-03, -2.3565e-02, -3.0631e-02,\n",
              "                       3.2974e-02,  1.1884e-02, -2.1253e-03,  1.6414e-02,  2.2739e-02,\n",
              "                      -5.3922e-03, -2.6054e-02, -1.3013e-02,  2.2411e-02,  3.3019e-02,\n",
              "                       2.7192e-02, -1.2245e-02,  1.4117e-02,  2.3898e-02,  2.4769e-02,\n",
              "                       1.5990e-02, -3.4958e-02, -9.2555e-03, -1.5350e-02, -2.2117e-02,\n",
              "                      -3.2610e-02,  3.3163e-02, -9.5731e-03, -3.0716e-02, -4.7119e-03,\n",
              "                      -1.6354e-02,  7.9673e-03, -2.1816e-02, -1.2013e-02,  2.0013e-02,\n",
              "                      -5.2415e-03,  4.9143e-03, -1.6894e-02, -1.6566e-02,  6.5951e-03,\n",
              "                      -2.9609e-02, -3.3734e-03, -3.4263e-03,  3.6533e-02, -1.5000e-02,\n",
              "                      -1.9278e-02, -2.0765e-02,  1.8253e-02, -9.6393e-03,  2.3282e-02,\n",
              "                      -1.1112e-03, -2.2138e-02, -1.1546e-02, -3.4097e-02, -1.8754e-02,\n",
              "                      -7.6796e-03,  3.5726e-03,  1.7658e-03,  6.8882e-03, -2.9778e-02,\n",
              "                      -2.9073e-02, -3.2012e-02,  1.4097e-02, -1.4669e-02,  3.4012e-03,\n",
              "                       2.7195e-02,  1.7991e-02, -2.7070e-02, -3.0543e-02,  8.6684e-03,\n",
              "                       3.8754e-02,  1.0811e-03, -8.8635e-03,  8.9264e-03, -1.7146e-02,\n",
              "                       3.8859e-02,  2.2247e-02,  2.7946e-02, -2.1852e-02,  1.8009e-03,\n",
              "                       2.1018e-02,  2.5543e-02,  1.9636e-02, -2.0184e-02, -3.4808e-02,\n",
              "                       1.5569e-02,  3.1017e-02,  7.1444e-03, -2.6603e-02, -9.5073e-03,\n",
              "                       5.1116e-03, -2.1902e-03, -8.2456e-03,  2.7547e-02, -9.0581e-03,\n",
              "                       2.4561e-02, -2.5579e-02,  9.4251e-03, -2.4354e-02, -4.0606e-03,\n",
              "                      -2.2232e-02, -1.2466e-02, -1.3151e-02,  3.7628e-02, -2.5265e-02,\n",
              "                       3.5174e-02,  1.8910e-02,  5.1566e-03, -8.1065e-04,  1.8045e-04,\n",
              "                      -2.4802e-02,  1.0028e-02,  2.0104e-02,  8.3642e-03, -2.0040e-02,\n",
              "                      -1.8142e-02, -2.0258e-02,  4.0627e-03, -3.2410e-03,  1.5333e-02,\n",
              "                      -1.1099e-03, -1.0343e-02, -1.2222e-02,  5.6135e-05,  2.3039e-03,\n",
              "                       1.8806e-02,  8.9212e-03, -3.0979e-02, -1.0616e-02,  5.3124e-03,\n",
              "                      -4.3487e-03,  3.7670e-02,  4.4610e-03, -1.4681e-02, -1.4226e-02,\n",
              "                      -1.4624e-02,  1.7052e-02, -3.4783e-02,  2.2306e-02,  1.7266e-02,\n",
              "                       2.4272e-02, -2.8143e-02, -2.6908e-03, -1.5623e-02, -3.6796e-02,\n",
              "                      -1.4156e-02])),\n",
              "             ('fc2.weight',\n",
              "              tensor([[-0.0231,  0.0384, -0.0047,  ..., -0.0357,  0.0567,  0.0120],\n",
              "                      [-0.0335, -0.0420, -0.0006,  ...,  0.0064,  0.0645,  0.0479],\n",
              "                      [-0.0599, -0.0462,  0.0249,  ..., -0.0330,  0.0084, -0.0496],\n",
              "                      ...,\n",
              "                      [ 0.0116,  0.0234,  0.0468,  ..., -0.0253,  0.0231,  0.0406],\n",
              "                      [-0.0479, -0.0562,  0.0342,  ...,  0.0491,  0.0162, -0.0377],\n",
              "                      [ 0.0495,  0.0555, -0.0463,  ...,  0.0659,  0.0012,  0.0067]])),\n",
              "             ('fc2.bias',\n",
              "              tensor([-0.0128,  0.0431, -0.0118, -0.0075,  0.0385,  0.0016,  0.0306, -0.0048,\n",
              "                       0.0529, -0.0559,  0.0230,  0.0396,  0.0326,  0.0167, -0.0145,  0.0460,\n",
              "                      -0.0266,  0.0624,  0.0145,  0.0003,  0.0401, -0.0136, -0.0417,  0.0177,\n",
              "                       0.0542, -0.0275,  0.0509, -0.0092, -0.0475,  0.0603, -0.0153, -0.0418,\n",
              "                       0.0708,  0.0399, -0.0619, -0.0162,  0.0567,  0.0430, -0.0090,  0.0113,\n",
              "                      -0.0247, -0.0322,  0.0387, -0.0082,  0.0365, -0.0219, -0.0232,  0.0252,\n",
              "                      -0.0043,  0.0594,  0.0040, -0.0600,  0.0023,  0.0184, -0.0029,  0.0385,\n",
              "                      -0.0532,  0.0386,  0.0606,  0.0209,  0.0511, -0.0385, -0.0267,  0.0487,\n",
              "                      -0.0330, -0.0021, -0.0319,  0.0663, -0.0189, -0.0053, -0.0242, -0.0138,\n",
              "                       0.0266,  0.0309, -0.0190, -0.0035, -0.0082, -0.0258, -0.0136, -0.0265,\n",
              "                       0.0176, -0.0250,  0.0625,  0.0577, -0.0447, -0.0291,  0.0020, -0.0490,\n",
              "                      -0.0378,  0.0131, -0.0283, -0.0186, -0.0387,  0.0523,  0.0432, -0.0240,\n",
              "                      -0.0570,  0.0192, -0.0472,  0.0655,  0.0551,  0.0096, -0.0108,  0.0544,\n",
              "                      -0.0279,  0.0324,  0.0372,  0.0169,  0.0367, -0.0394,  0.0280, -0.0645,\n",
              "                       0.0434,  0.0112, -0.0221, -0.0593, -0.0184,  0.0396,  0.0123,  0.0617,\n",
              "                      -0.0470,  0.0313,  0.0481, -0.0417, -0.0161, -0.0225, -0.0364,  0.0092])),\n",
              "             ('fc3.weight',\n",
              "              tensor([[-0.0460,  0.0783, -0.0690,  ..., -0.0577, -0.0240,  0.0391],\n",
              "                      [ 0.0718,  0.0201,  0.0056,  ..., -0.0719, -0.0604,  0.0706],\n",
              "                      [-0.0077, -0.0377, -0.0277,  ..., -0.0848, -0.0680,  0.0314],\n",
              "                      ...,\n",
              "                      [ 0.0928, -0.0080,  0.0374,  ...,  0.0363, -0.0351,  0.0345],\n",
              "                      [ 0.0700, -0.0611,  0.0201,  ...,  0.0492, -0.0375, -0.0485],\n",
              "                      [ 0.0559,  0.0746,  0.0864,  ..., -0.0276, -0.0110,  0.0915]])),\n",
              "             ('fc3.bias',\n",
              "              tensor([ 3.9621e-02,  6.8024e-02, -3.5919e-03,  6.3970e-02, -5.6599e-02,\n",
              "                      -1.3319e-03,  5.3013e-02,  4.5383e-02,  1.0698e-02, -3.3159e-02,\n",
              "                      -5.3665e-03, -3.4903e-02,  2.2620e-02,  1.0361e-01,  6.1132e-02,\n",
              "                       6.2792e-02,  6.0714e-02, -1.2350e-03,  8.5371e-02,  3.8427e-03,\n",
              "                      -3.7948e-02, -3.0937e-02,  3.6042e-02,  9.2130e-02,  9.4818e-03,\n",
              "                       2.5858e-02,  1.0133e-02,  8.0629e-02,  2.2551e-02, -1.2768e-03,\n",
              "                      -1.7540e-02, -4.3011e-02, -6.4918e-02,  5.5878e-02,  7.4800e-02,\n",
              "                      -1.7994e-02,  7.9000e-02, -2.3999e-02,  1.8868e-02, -1.0373e-02,\n",
              "                      -2.5011e-02,  9.1400e-02,  9.0142e-02, -3.8655e-02, -5.2852e-03,\n",
              "                      -4.7821e-03, -9.5687e-02,  5.0932e-02,  1.2604e-01,  4.5711e-03,\n",
              "                       6.2651e-03, -6.0603e-03,  4.0348e-02,  1.5261e-02, -2.1051e-02,\n",
              "                       1.0393e-02,  5.1828e-02,  8.2826e-02,  1.6753e-03, -2.9432e-03,\n",
              "                      -9.9444e-05,  2.9807e-02,  4.7268e-02,  1.2848e-02])),\n",
              "             ('fc4.weight',\n",
              "              tensor([[ 0.2232, -0.1879,  0.0097, -0.1729, -0.0585,  0.0824, -0.0906,  0.0780,\n",
              "                       -0.0253,  0.1819, -0.0188, -0.0554,  0.1387,  0.2328, -0.1974, -0.1189,\n",
              "                       -0.1978,  0.0008, -0.0076,  0.1330,  0.0420, -0.1626,  0.0393,  0.1374,\n",
              "                       -0.2199, -0.1250,  0.1089,  0.0711,  0.0587, -0.0365,  0.0525, -0.1551,\n",
              "                       -0.0219, -0.0941,  0.2064, -0.0135, -0.0629,  0.0180,  0.1251,  0.1326,\n",
              "                       -0.1058,  0.1910, -0.0244,  0.0273, -0.1194, -0.0886, -0.0443,  0.1222,\n",
              "                        0.1461, -0.1184,  0.0196,  0.2416, -0.0702, -0.1047, -0.1824,  0.0439,\n",
              "                        0.1690, -0.1090,  0.1889, -0.0274, -0.0502,  0.0041, -0.2405,  0.0927],\n",
              "                      [ 0.1501, -0.1401, -0.0430, -0.0733, -0.1086, -0.0421, -0.0706, -0.0701,\n",
              "                        0.0828, -0.1458,  0.0826, -0.0531, -0.0681, -0.0514, -0.1979,  0.2352,\n",
              "                       -0.1773,  0.1040,  0.0506,  0.1137, -0.0189,  0.0057,  0.2120,  0.0514,\n",
              "                       -0.1608, -0.0445,  0.2755, -0.1012, -0.1075, -0.1409,  0.0989,  0.2443,\n",
              "                        0.1228,  0.2108, -0.2310,  0.1482, -0.0206,  0.0931,  0.0355, -0.2193,\n",
              "                       -0.0214, -0.1555,  0.2034, -0.0037, -0.0630, -0.0246,  0.0578, -0.2223,\n",
              "                       -0.1992,  0.1549,  0.1051, -0.2100, -0.1014, -0.1112, -0.1115, -0.1838,\n",
              "                       -0.0321, -0.2081,  0.2742,  0.2478,  0.0033, -0.1201,  0.0910,  0.0638],\n",
              "                      [ 0.2186,  0.1705,  0.0981, -0.1879,  0.0859,  0.1132, -0.0599,  0.1228,\n",
              "                       -0.1359, -0.0595,  0.0032, -0.0797,  0.0469, -0.0874, -0.0570,  0.0579,\n",
              "                       -0.0087,  0.0010, -0.2134,  0.2784, -0.2508,  0.0306,  0.0249, -0.2694,\n",
              "                        0.0695,  0.0439,  0.1566,  0.1000, -0.2603,  0.0623, -0.0706, -0.0314,\n",
              "                       -0.1321,  0.0782,  0.1542,  0.1849,  0.3202,  0.0833,  0.1652, -0.1283,\n",
              "                       -0.1692, -0.0050, -0.1761,  0.1104,  0.0392, -0.2116, -0.2262,  0.1343,\n",
              "                        0.0705, -0.0510, -0.0007, -0.1985,  0.0985,  0.0799, -0.1602,  0.0369,\n",
              "                       -0.3167,  0.0518, -0.0332,  0.1361, -0.1131, -0.0066, -0.0315,  0.0529],\n",
              "                      [ 0.0897, -0.1640,  0.0470, -0.0609,  0.0373, -0.0228, -0.0016, -0.1002,\n",
              "                       -0.1149, -0.0291, -0.0973, -0.1524, -0.0699, -0.2175, -0.1448,  0.0004,\n",
              "                       -0.2090, -0.0531,  0.0180,  0.2101,  0.0806,  0.2076, -0.0346,  0.0625,\n",
              "                        0.1476,  0.0563, -0.1153, -0.0655, -0.1917, -0.1274,  0.0365, -0.1125,\n",
              "                        0.0356, -0.1569,  0.0544, -0.1301,  0.0742, -0.0090, -0.2132, -0.0048,\n",
              "                        0.0377,  0.0246,  0.0100,  0.0392,  0.1144,  0.1166, -0.0939,  0.1691,\n",
              "                       -0.0162, -0.1328,  0.0744,  0.1169,  0.2300,  0.0437,  0.1076,  0.0126,\n",
              "                        0.2193, -0.1452,  0.0905,  0.2732, -0.1375, -0.2271,  0.1461, -0.1518],\n",
              "                      [-0.0896, -0.1132, -0.1109, -0.0654,  0.0748, -0.0316, -0.0216,  0.0727,\n",
              "                       -0.0769, -0.1583,  0.0627,  0.2040,  0.1459, -0.1207,  0.2546,  0.0649,\n",
              "                        0.2747,  0.0595,  0.0953, -0.0816, -0.1484,  0.1418, -0.0549, -0.0171,\n",
              "                       -0.1176,  0.0022,  0.1099, -0.0766,  0.0151,  0.0299, -0.0191,  0.0565,\n",
              "                       -0.0474,  0.0091,  0.1257,  0.0397, -0.1232, -0.0647,  0.0444,  0.0430,\n",
              "                       -0.2159, -0.0048, -0.1172,  0.0368, -0.0324,  0.1019,  0.1456, -0.0092,\n",
              "                        0.0761, -0.0189,  0.0026, -0.2454,  0.1795,  0.0847,  0.2794, -0.1083,\n",
              "                       -0.0785,  0.2145,  0.1228,  0.2588,  0.0548, -0.2322, -0.0776,  0.1236],\n",
              "                      [ 0.0392,  0.0355,  0.0269,  0.1528,  0.0432, -0.0915,  0.0589,  0.0974,\n",
              "                       -0.0276,  0.0948,  0.0638,  0.0331, -0.1846,  0.0277,  0.1608, -0.0786,\n",
              "                       -0.0093, -0.0564,  0.0137, -0.1279, -0.1937, -0.2353,  0.1488, -0.2732,\n",
              "                       -0.1105,  0.2519, -0.2033, -0.0138,  0.2592,  0.3321,  0.0721, -0.1610,\n",
              "                        0.0936, -0.1337,  0.0396,  0.0698,  0.1591,  0.1381,  0.2034,  0.2514,\n",
              "                        0.1837,  0.1008,  0.0042,  0.0044,  0.0018, -0.0960,  0.0965, -0.0483,\n",
              "                       -0.1750, -0.0747, -0.0408,  0.2214, -0.1749,  0.0414, -0.2043,  0.1575,\n",
              "                       -0.1405, -0.0901, -0.0947, -0.3603, -0.0868,  0.3729,  0.1517,  0.0828],\n",
              "                      [ 0.1821,  0.0227, -0.0275, -0.1166,  0.0124, -0.1067, -0.3080, -0.0931,\n",
              "                       -0.0752,  0.1030,  0.0876,  0.0483,  0.0684,  0.0130,  0.1919, -0.0755,\n",
              "                        0.1133, -0.0599,  0.1377,  0.1565,  0.0877,  0.0943, -0.2310, -0.1003,\n",
              "                       -0.1744,  0.0518, -0.0822,  0.0504,  0.0568, -0.0217, -0.0172, -0.0596,\n",
              "                        0.0859, -0.0369,  0.2308, -0.0829, -0.0596,  0.1543,  0.1913,  0.0570,\n",
              "                       -0.2774,  0.0296, -0.0407, -0.1262, -0.1864,  0.0150,  0.1489, -0.0427,\n",
              "                        0.1871, -0.2337,  0.0623,  0.2236,  0.1365, -0.0762, -0.1212,  0.1134,\n",
              "                       -0.0836,  0.2150,  0.2282, -0.0245,  0.0777, -0.0126, -0.0945, -0.1572],\n",
              "                      [-0.2261, -0.1060,  0.0239,  0.3234,  0.0398, -0.0528,  0.0565,  0.0720,\n",
              "                        0.0429, -0.1054, -0.1422,  0.1383,  0.0560,  0.1109, -0.1053,  0.0369,\n",
              "                       -0.0391,  0.0489, -0.0464, -0.2598, -0.0470, -0.0075,  0.1948, -0.0190,\n",
              "                        0.2859,  0.1595, -0.0899,  0.2163, -0.1367,  0.1819,  0.0931, -0.0863,\n",
              "                       -0.0765,  0.1500, -0.2716, -0.0638, -0.2672, -0.1677, -0.1062,  0.1748,\n",
              "                        0.2621, -0.0790,  0.3038,  0.0159,  0.2780, -0.0892, -0.0045, -0.1841,\n",
              "                       -0.2132,  0.1444,  0.0502, -0.1958, -0.2021,  0.1187,  0.1977, -0.0719,\n",
              "                       -0.1611, -0.3082, -0.2422,  0.0044, -0.1225,  0.0997,  0.0284, -0.0243],\n",
              "                      [-0.0977,  0.1643,  0.1091,  0.0824, -0.1151,  0.0729,  0.2182, -0.0229,\n",
              "                       -0.0135,  0.0860, -0.0515,  0.1634, -0.0581,  0.0628,  0.1200, -0.1744,\n",
              "                        0.1186, -0.0083,  0.2206,  0.0906,  0.0211,  0.0704, -0.1437,  0.1565,\n",
              "                        0.1464,  0.1348, -0.1648, -0.2500,  0.0838,  0.0101, -0.0304, -0.0802,\n",
              "                        0.0836, -0.1768, -0.0477, -0.0096,  0.1120, -0.0423,  0.0897, -0.2193,\n",
              "                       -0.0600, -0.0755, -0.2918, -0.0611,  0.0045,  0.1463, -0.0133,  0.2742,\n",
              "                        0.1117, -0.2205, -0.1223,  0.1487, -0.0778, -0.0595,  0.2125,  0.0061,\n",
              "                       -0.0978,  0.1912, -0.3772,  0.0687,  0.0820,  0.1907,  0.1691,  0.0021],\n",
              "                      [-0.2717, -0.1762, -0.0483,  0.1753, -0.0705,  0.0155,  0.3277,  0.1091,\n",
              "                       -0.0241,  0.0969,  0.0228, -0.1826, -0.1590,  0.1533, -0.0030,  0.0419,\n",
              "                        0.1481, -0.1766,  0.1638, -0.2636,  0.2364, -0.1041, -0.1963,  0.1837,\n",
              "                        0.0913,  0.0157, -0.1580,  0.1404,  0.2341, -0.0601, -0.0781,  0.1060,\n",
              "                        0.1207,  0.0947, -0.0810, -0.0121, -0.3023,  0.1403, -0.1524,  0.1408,\n",
              "                        0.1957, -0.0499, -0.0771, -0.0258,  0.2443,  0.0803, -0.0638, -0.1568,\n",
              "                       -0.1606,  0.0364, -0.0363,  0.2159, -0.1070, -0.0569,  0.1134, -0.1898,\n",
              "                        0.1834, -0.0256, -0.2093, -0.3181, -0.1041, -0.1744,  0.2661, -0.0467]])),\n",
              "             ('fc4.bias',\n",
              "              tensor([ 0.1734,  0.0994, -0.0171, -0.0497, -0.1028, -0.0483,  0.0543,  0.0081,\n",
              "                       0.0573,  0.0293]))])"
            ]
          },
          "metadata": {
            "tags": []
          },
          "execution_count": 15
        }
      ]
    },
    {
      "cell_type": "code",
      "metadata": {
        "id": "izZcLv0Y6-AE"
      },
      "source": [
        ""
      ],
      "execution_count": null,
      "outputs": []
    }
  ]
}